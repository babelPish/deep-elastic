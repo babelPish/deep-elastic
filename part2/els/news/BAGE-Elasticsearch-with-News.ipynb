{
 "cells": [
  {
   "cell_type": "markdown",
   "metadata": {},
   "source": [
    "# Docs Samples"
   ]
  },
  {
   "cell_type": "raw",
   "metadata": {},
   "source": [
    "brew services start elasticsearch\n",
    "brew services stop elasticsearch"
   ]
  },
  {
   "cell_type": "code",
   "execution_count": 134,
   "metadata": {
    "collapsed": false
   },
   "outputs": [
    {
     "name": "stdout",
     "output_type": "stream",
     "text": [
      "/Users/bage/Downloads/google_news/Olympics\n"
     ]
    }
   ],
   "source": [
    "import getpass\n",
    "_dir = '/Users/%s/Downloads/google_news/Olympics' % getpass.getuser()\n",
    "print(_dir)"
   ]
  },
  {
   "cell_type": "code",
   "execution_count": 135,
   "metadata": {
    "collapsed": false,
    "scrolled": true
   },
   "outputs": [
    {
     "name": "stdout",
     "output_type": "stream",
     "text": [
      "12_local_athletes_heading_to_Rio_2016_Olympics.json\n",
      "2016_Rio_Olympics_womens_soccer_Brazil_players_give_hosts_a_winning_start_to_Olympics.json\n",
      "Archery_adopts_new_scoring_system_and_floodlights_at.json\n",
      "Beyond_2016_where_to_try_the_five_new_Olympic_sports_in_Rio_de_Janeiro.json\n",
      "Elite_Japanese_Gymnast_Reportedly_Owed_5K_in_Data_Overages_After_Playing_Pokemon_Go_in_Rio_Before_Olympics.json\n",
      "Gender_divides_in_the_language_of_sport.json\n",
      "Google_Maps_is_adding_ofteninvisible_favelas_to_their_cartography_of_Rio_ahead_of_the_Olympics.json\n",
      "Mexico_vs_Germany_Olympics_2016_Prediction_Preview_Squads_For_Soccer_Group_Match.json\n",
      "Michael_Phelps_Selected_As_’s_Flag_Bearer_For_Rio_2016_Olympic_Games.json\n",
      "Nadal_confirms_he_will_play_at__as_Djokovic_and_Murray_hit_the_courts.json\n",
      "Olympic_refugee_team_arrives_in_athletes_village_to_rapturous_welcome.json\n",
      "Olympics_2016_Somali_athletes_hard_road_to_Rio.json\n",
      "Olympics_2016_When_is_the_gymnastics_and_how_to_watch_it.json\n",
      "Rio_2016_Andy_Murray_to_be_Team_GB_flag_bearer_at_Olympics__CBBC_Newsround.json\n",
      "Rio_2016_Brazil_womens_football_team_beat_China_30_as_empty_seats_dominate_Olympic_Stadium.json\n",
      "Rio_2016_Jo_Pavey_prepares_to_represent_Team_GB_at_fifth_Olympics.json\n",
      "Rio_2016_Kohei_Uchimura_gets_£3700_Pokemon_Go_bill.json\n",
      "Rio_2016_Nigerias_Olympic_footballers_delayed_by_payment_problem.json\n",
      "Rio_2016_Olympic_opening_ceremony_to_dance_to_the_beat_of_Brazils_vibrant_musical_tradition.json\n",
      "Rio_2016_Olympics__latest_news_Andy_Murray_to_be_named_Team_GB_flag_bearer_and_Sweden_v_South_Africa_starts_the_football_competition.json\n",
      "Rio_2016_Olympics_Lizzie_Armitstead_defends_missed_drugs_tests.json\n",
      "Rio_2016_Olympics_Matildas_downed_by_Canada_in_womens_football_opener.json\n",
      "Rio_2016_Olympics_Russia_to_have_their_bans_lifted_in_doping_shambles.json\n",
      "Rio_2016_PG_Tips_DFS_sofas_and_quiz_nights__how_Team_GB_has_turned_Olympic_Village_into_a_home_from_home.json\n",
      "Rio_2016_Stan_Wawrinka_pulls_out_but_Rafael_Nadal_will_play_at_Olympics.json\n",
      "Rio_Olympics_2016_Andy_Murray_to_be_Team_GB_flag_bearer.json\n",
      "Rio_Olympics_2016_Bronte_Campbell_thankful_for_James_Magnussen_loss_in_London.json\n",
      "Rio_Olympics_2016_David_Florences_gold_medal_chances_go_into_orbit.json\n",
      "Rio_Olympics_2016_Flagbearer_Anna_Meares_tells_Australia_to_make_Games_great.json\n",
      "Rio_Olympics_2016_Football_kicks_off_Games_before_opening_ceremony.json\n",
      "Rio_Olympics_2016_Golfs_outrageous_outsider_George_Lyon_gives_hope_to_all_of_this_years_vintage.json\n",
      "Rio_Olympics_2016_Hope_Solo_finds_out_how_Zika_slam_played_in_Brazil_not_well.json\n",
      "Rio_Olympics_2016_Inside_Team_GBs_boxing_shrine_to_elite_performance.json\n",
      "Rio_Olympics_2016_Lizzie_Armitstead_hits_back_at_incredibly_painful_comments_about_missed_doping_tests.json\n",
      "Rio_Olympics_2016_Mack_Horton_has_training_pool_runin_with_Chinas_Sun_Yang.json\n",
      "Rio_Olympics_2016_Nathan_Adrian_says_Cameron_McEvoy_can_make_history_in_Brazil.json\n",
      "Rio_Olympics_2016_Neymar_seeks_to_answer_his_critics_by_leading_Brazil_to_first_football_gold.json\n",
      "Rio_Olympics_2016_Nicola_Adamss_chances_of_being_Team_GBs_flagbearer_boosted_as_Bradley_Wiggins_drops_out.json\n",
      "Rio_Olympics_2016_Olympic_shooting_explained.json\n",
      "Rio_Olympics_2016_Sevens_star_Sonny_Bill_Williams_snubs_Australian_media.json\n",
      "Rio_Olympics_2016_Team_GB_rower_Jack_Beaumont_has_lucky_break_at_best_mates_expense.json\n",
      "Rio_Olympics_2016_Team_Refugees_Inspiring_Message_for_the_World.json\n",
      "Rio_Olympics_2016_The_Games_begins__with_a_tepid_contest_in_front_of_a_thin_crowd.json\n",
      "Rio_Olympics_2016_USA_flag_bearer_Michael_Phelps_laments_lack_of_clean_sport.json\n",
      "Rio_Olympics_2016_USA_vs_New_Zealand_live_stream_WATCH_ONLINE_USWNT_8316.json\n",
      "Rios_Olympic_Golf_Course_Overrun_with_Capybaras_and_Crocodiles_Days_Ahead_of_Summer_Games.json\n",
      "s_oneofakind_rowing_venue_provides_challenges_and_opportunities.json\n",
      "Splash_landing_Michael_Phelps_takes_the_plunge_at_in_his_first_training_session.json\n",
      "The_Zika_factor—Whos_in_and_whos_out_of_the_2016_Rio_Olympics.json\n",
      "Underdog_Olympians_Aim_to_Prove_Refugee_Is_Only_a_Name.json\n",
      "Usain_Bolt_gets_dressed_up_in_colours.json\n",
      "Wednesdays_Rio_2016_Olympics_schedule_and_results.json\n",
      "What_a_wasted_opportunity_not_making_Nicola_Adams_our_Olympic_flag_bearer.json\n",
      "What_time_is_the_Rio_2016_Olympic_Opening_Ceremony_live_on_the_BBC.json\n",
      "When_does_the_Olympics_start_Rio_2016_is_already_underway_with_women’s_football_centre_stage.json\n",
      "When_is_the_Olympic_Opening_Ceremony_for_Rio_2016_what_time_does_it_start_and_what_TV_channel_is_it_on.json\n"
     ]
    }
   ],
   "source": [
    "import json\n",
    "import os\n",
    "\n",
    "doc_list = []\n",
    "\n",
    "for filename in os.listdir(_dir):\n",
    "    print(filename)\n",
    "    with open(os.path.join(_dir, filename)) as f:\n",
    "        doc = json.load(f)\n",
    "        doc['content'] = doc['body']\n",
    "        del(doc['body'])\n",
    "        doc['content_length'] = len(doc['content'].split())\n",
    "        doc_list.append(doc)"
   ]
  },
  {
   "cell_type": "code",
   "execution_count": 136,
   "metadata": {
    "collapsed": false
   },
   "outputs": [
    {
     "name": "stdout",
     "output_type": "stream",
     "text": [
      "{'category': 'Olympics',\n",
      " 'content': 'With the opening ceremonies for the 31st Olympiad kicking off on '\n",
      "            'Friday, excitement is building for the 2016 Olympic Games in Rio '\n",
      "            'de Janeiro, Brazil.\\n'\n",
      "            '\\n'\n",
      "            'Locally, we are represented across a wide range of sports '\n",
      "            'including rowing, boxing, and golf.\\n'\n",
      "            '\\n'\n",
      "            'Here is a list of our local athletes who will be competing over '\n",
      "            'the next couple of weeks:',\n",
      " 'content_length': 58,\n",
      " 'title': '12 local athletes heading to Rio 2016 Olympics'}\n"
     ]
    }
   ],
   "source": [
    "import pprint\n",
    "pprint.pprint(doc_list[0])"
   ]
  },
  {
   "cell_type": "markdown",
   "metadata": {},
   "source": [
    "# Connection"
   ]
  },
  {
   "cell_type": "code",
   "execution_count": 137,
   "metadata": {
    "collapsed": false
   },
   "outputs": [
    {
     "name": "stdout",
     "output_type": "stream",
     "text": [
      "<elasticsearch_dsl.connections.Connections object at 0x106aa9828> <Elasticsearch([{'host': 'localhost'}])>\n"
     ]
    }
   ],
   "source": [
    "# create global connection\n",
    "from elasticsearch_dsl.connections import connections\n",
    "connections.create_connection(hosts='localhost', timeout=30)  # global elasticsearch connection\n",
    "\n",
    "from elasticsearch import Elasticsearch\n",
    "es = Elasticsearch(hosts='localhost', timeout=30)\n",
    "print(connections, es)"
   ]
  },
  {
   "cell_type": "markdown",
   "metadata": {},
   "source": [
    "# Type Mapping (Table Schema)"
   ]
  },
  {
   "cell_type": "code",
   "execution_count": 138,
   "metadata": {
    "collapsed": true
   },
   "outputs": [],
   "source": [
    "# noinspection PyUnresolvedReferences\n",
    "import traceback\n",
    "\n",
    "from elasticsearch_dsl import Index\n",
    "from elasticsearch_dsl import analysis, DocType, String, Date, Integer, analyzer\n",
    "\n",
    "\n",
    "class GoogleNews(DocType):\n",
    "    __google_news_char_filter = analysis.char_filter('google_news_char_filter', 'html_strip', escaped_tags=[])\n",
    "    __google_news_token_filter = analysis.token_filter('google_news_token_filter', 'stop', stopwords=[])\n",
    "    google_news_token_analyzer = analyzer('google_news_token_analyzer',\n",
    "                                            type='custom',\n",
    "                                            char_filter=['html_strip', __google_news_char_filter],\n",
    "                                            tokenizer='whitespace',  # tokens by whitespace\n",
    "                                          filter=['lowercase', __google_news_token_filter],\n",
    "                                            )\n",
    "\n",
    "    index = 'google_news_v01'  # for searching\n",
    "    doc_type = 'google_news'\n",
    "\n",
    "    title = String()\n",
    "    category = String(index='not_analyzed')\n",
    "    content = String(\n",
    "        analyzer=google_news_token_analyzer,  # separated sentece\n",
    "        # term_vector='with_positions',\n",
    "        # fields={'raw': String(index='not_analyzed')}\n",
    "    )\n",
    "    content_length = Integer(index='not_analyzed')\n",
    "\n",
    "    def __init__(self, **kwargs):\n",
    "        # print('url:', kwargs['url'], 'position:', kwargs['position'])\n",
    "        if 'title' in kwargs:\n",
    "            super().__init__(**kwargs)\n",
    "            self.meta.index = self.index\n",
    "            self.meta.id = kwargs['title']\n",
    "            self.content_length = len(kwargs['content'].split())\n",
    "            # print('self.meta.index:', self.meta.index)\n",
    "\n",
    "    @classmethod\n",
    "    def recreate_index(cls):\n",
    "        new_index = Index(cls.index)\n",
    "        try:\n",
    "            new_index.doc_type(cls)\n",
    "            new_index.delete(ignore=404)\n",
    "        except:\n",
    "            print(traceback.format_exc())\n",
    "        try:\n",
    "            new_index.create()\n",
    "        except:\n",
    "            print(traceback.format_exc())\n"
   ]
  },
  {
   "cell_type": "markdown",
   "metadata": {},
   "source": [
    "# Indexing (python)\n",
    "https://elasticsearch-py.readthedocs.io/en/master/"
   ]
  },
  {
   "cell_type": "code",
   "execution_count": 139,
   "metadata": {
    "collapsed": false
   },
   "outputs": [],
   "source": [
    "GoogleNews.recreate_index()\n",
    "for doc in doc_list:\n",
    "    res = es.index(index=GoogleNews.index, doc_type=GoogleNews.doc_type, body=doc)"
   ]
  },
  {
   "cell_type": "markdown",
   "metadata": {},
   "source": [
    "# Manage with ES HQ (Web admin plugin)\n",
    "http://localhost:9200/_plugin/hq/"
   ]
  },
  {
   "cell_type": "markdown",
   "metadata": {},
   "source": [
    "# Searching (python)"
   ]
  },
  {
   "cell_type": "code",
   "execution_count": 140,
   "metadata": {
    "collapsed": false
   },
   "outputs": [],
   "source": [
    "import logging\n",
    "class Searcher(object):\n",
    "    def __init__(self, index=GoogleNews.index, doc_type=GoogleNews.doc_type):\n",
    "        logging.getLogger(\"urllib3\").setLevel(logging.CRITICAL)\n",
    "        logging.getLogger(\"requests\").setLevel(logging.CRITICAL)\n",
    "        logging.getLogger('elasticsearch').setLevel(logging.CRITICAL)\n",
    "        logging.getLogger('elasticsearch.trace').setLevel(logging.CRITICAL)\n",
    "\n",
    "        self.es = Elasticsearch(hosts='localhost', timeout=300)\n",
    "        self.index = index\n",
    "        self.doc_type = doc_type\n",
    "        \n",
    "    def escape(self, keyword):     # escaping characters\n",
    "        keyword = keyword.replace('_', ' ')\n",
    "        for c in ['.', '%', '+', '-', '=', '&&', '||', '>', '<', '!', '(', ')', '{', '}', '[', ']', '^', '\"', '~', '*',\n",
    "                  '?', ':', '/']:  # '\\\\',ççç\n",
    "            keyword = keyword.replace(c, r'\\%s' % c)\n",
    "        return keyword\n",
    "    \n",
    "    def search(self, q, field='content'):\n",
    "        q = '%s:%s' % (field, q) # make query\n",
    "        r = self.es.search(index=self.index, doc_type=self.doc_type, q=q) # q=Query String Query\n",
    "        return r\n",
    "    \n",
    "    def search_all(self, q, field='content'):\n",
    "        q = '%s:%s' % (field, q) # make query\n",
    "        hits = []\n",
    "        r = self.es.search(index=self.index, doc_type=self.doc_type, q=q) # q=Query String Query\n",
    "        hits.extend(r['hits']['hits'])\n",
    "        \n",
    "        while r['hits']['total'] > len(hits): # need more hits\n",
    "            _r = self.es.search(index=self.index, doc_type=self.doc_type, q=q, from_=len(hits)) # q=Query String Query\n",
    "            hits.extend(_r['hits']['hits'])\n",
    "            r['took'] += _r['took'] # sum elapsed time.\n",
    "        \n",
    "        r['hits']['hits']=hits\n",
    "        return r\n",
    "    \n",
    "searcher = Searcher(index=GoogleNews.index, doc_type=GoogleNews.doc_type)"
   ]
  },
  {
   "cell_type": "code",
   "execution_count": 141,
   "metadata": {
    "collapsed": false,
    "scrolled": false
   },
   "outputs": [
    {
     "data": {
      "text/plain": [
       "{'_shards': {'failed': 0, 'successful': 5, 'total': 5},\n",
       " 'hits': {'hits': [{'_id': 'AVZVn-gSqzY1t1OkhrzC',\n",
       "    '_index': 'google_news_v01',\n",
       "    '_score': 0.3675009,\n",
       "    '_source': {'category': 'Olympics',\n",
       "     'content': 'Lagoa Stadium, set on a lake in the heart of the city, will provide a unique environment for Olympic Games athletes and spectators',\n",
       "     'content_length': 23,\n",
       "     'title': \"'s one-of-a-kind rowing venue provides challenges and opportunities\"},\n",
       "    '_type': 'google_news'},\n",
       "   {'_id': 'AVZVn-gZqzY1t1OkhrzG',\n",
       "    '_index': 'google_news_v01',\n",
       "    '_score': 0.35625812,\n",
       "    '_source': {'category': 'Olympics',\n",
       "     'content': 'Superstar Jamaican sprinter, who has been keeping a low profile since arriving in Rio, posts homage to Olympic Games online',\n",
       "     'content_length': 20,\n",
       "     'title': 'Usain Bolt gets dressed up in colours'},\n",
       "    '_type': 'google_news'},\n",
       "   {'_id': 'AVZVn-fDqzY1t1OkhryU',\n",
       "    '_index': 'google_news_v01',\n",
       "    '_score': 0.21960393,\n",
       "    '_source': {'category': 'Olympics',\n",
       "     'content': 'With the opening ceremonies for the 31st Olympiad kicking off on Friday, excitement is building for the 2016 Olympic Games in Rio de Janeiro, Brazil.\\n\\nLocally, we are represented across a wide range of sports including rowing, boxing, and golf.\\n\\nHere is a list of our local athletes who will be competing over the next couple of weeks:',\n",
       "     'content_length': 58,\n",
       "     'title': '12 local athletes heading to Rio 2016 Olympics'},\n",
       "    '_type': 'google_news'},\n",
       "   {'_id': 'AVZVn-fHqzY1t1OkhryV',\n",
       "    '_index': 'google_news_v01',\n",
       "    '_score': 0.17993751,\n",
       "    '_source': {'category': 'Olympics',\n",
       "     'content': \"Brazil's Marta in action during the women's soccer match between Brazil and China at the Olympic Stadium in Rio de Janeiro on Wednesday.\\n\\nThe first Olympics in Brazil are underway — aptly with soccer games in the sport's spiritual home and a win for the hosts.\\n\\nIn Rio de Janeiro's Olympic Stadium, the Brazilian women's team eased to a 3-0 victory at the start of its quest for a first Olympic gold.\\n\\nIt's an early sporting high for Brazil, where reservations about the cost of bringing the Olympics to South America for the first time have produced violent reactions.\\n\\nAs the Olympic torch relay, which began with a ceremonial lighting in Ancient Olympia in April, reached Rio there were fresh signs that strife could disrupt the games.\\n\\nPolice used tear gas to break up protests against salary delays for public workers. Other protesters are demanding improvements in education and healthcare, with some angered by the 39.1 billion Brazilian reals ($12 billion) — a mix of public and private money — being spent on building venues and infrastructure for the Olympics.\\n\\nBrazil embarked on its Olympics bid at a time of prosperity in 2006, but the games are opening with the country in the grip of its worst recession in decades.\\n\\nBut there was a cause for celebrations on the football field as headers from Monica and Cristiane either side of Andressa Alves' 59th-minute strike secured Brazil's opening win over China.\",\n",
       "     'content_length': 240,\n",
       "     'title': \"2016 Rio Olympics, women's soccer: Brazil players give hosts a winning start to Olympics\"},\n",
       "    '_type': 'google_news'},\n",
       "   {'_id': 'AVZVn-gfqzY1t1OkhrzK',\n",
       "    '_index': 'google_news_v01',\n",
       "    '_score': 0.15913256,\n",
       "    '_source': {'category': 'Olympics',\n",
       "     'content': \"Sweden and South Africa contest first of today's preliminary group matches of the women's football tournament\\n\\nTHE Olympic Games officially get under way on Friday with the opening ceremony – but the action has already kicked off.\\n\\nThe first group games in the women’s tournament began at 5pm today – so-called day minus 2 – with Sweden facing South Africa at\\xa0Rio’s Joao Havelange Olympic Stadium.\\n\\nNilla Fischer netted the only goal of the game to get the Swedes off to a flying start in Group E.\\n\\nBrazil\\xa0are in the same pool and\\xa0play China at the\\xa0same venue later this evening, while defending champions the United States face New Zealand in Belo Horizonte at 11pm.\\n\\nZimbabwe make their Olympic football debut when the country’s women – by far the lowest ranked by Fifa in the tournament at 93rd – play world No 2 Germany in Sao Paulo at 10pm.\\n\\nThe men start on Thursday when Iraq play Denmar, again at 5pm.\\n\\nTeam GB do not play football at the Olympics as the home nations cannot agree on how to combine – London 2012 being the only exception since 1960.\\n\\nFive things you need to know about the Rio Olympics as the Games come to South America for the first time\\n\\nBrazil desperate to win first-ever Olympic football gold medal and end worst run without major trophy since 1989\\n\\nTeam GB fly economy with British Airways to Rio despite airline sponsoring the squad\\n\\nEXCLUSIVE: Mo Farah says Rio de Janeiro will be his last Olympics – but that nothing can top London 2012\",\n",
       "     'content_length': 264,\n",
       "     'title': 'When does the Olympics start: Rio 2016 is already underway with women’s football centre stage'},\n",
       "    '_type': 'google_news'},\n",
       "   {'_id': 'AVZVn-fhqzY1t1Okhryf',\n",
       "    '_index': 'google_news_v01',\n",
       "    '_score': 0.15426429,\n",
       "    '_source': {'category': 'Olympics',\n",
       "     'content': 'Somalia - the nation that produced double Olympic champion Mo Farah - has sent only two athletes to the\\xa02016 Olympic\\xa0Games in Rio. Runners\\xa0Maryan Nuh Muse\\xa0and Mohamed Daud Mohamed are joining more than 11,000 athletes there. But why such a small team?\\n\\nThe problem is not lack of talent. Both Farah, who won two gold medals at London 2012, and Mohammed Ahmed, who made his Olympic debut then, coming 18th\\xa0in the 10,000m, were born in the Somali capital Mogadishu.\\n\\nBut both were competing for their adoptive countries, having left Somalia with their families when they were youngsters.\\xa0Farah now represents Great Britain and Ahmed\\xa0runs for Canada.\\n\\nFirst, the Somali\\xa0Olympic National\\xa0Committee\\xa0has little by way of a budget for its athletes. The team does not have private doctors. Any medical treatment needed must come\\xa0from public hospitals, themselves under-funded\\xa0and lacking\\xa0proper equipment.\\n\\nIt began preparations for Rio in 2014 by deciding to appoint a technical group charged with travelling widely in Somalia to identify and train potential competitors.\\n\\nBut spotting talent outside Mogadishu has been hampered by the fact that some areas are still under the control of militant Islamist group al-Shabab.\\n\\nAnd many young Somalis have been leaving the country to try to escape the violence and poverty. One was sprinter\\xa0Samia\\xa0Yusuf Omar, who represented Somalia at the Beijing Olympics in 2008.\\n\\nShe initially moved to Ethiopia, in part to avoid being harassed by local militants who disapproved of Muslim women competing in sport.\\n\\nHer story inspired a graphic novel by Richard Kleist\\xa0entitled \"An Olympic Dream\".\\n\\nBut Samia\\'s dream was shattered in 2012\\xa0as she drowned when a boat in which she was trying to reach Europe capsized off the Libyan coast.\\n\\nMohamed Daud Mohamed, 20, will compete in the 5,000m. Born in neighbouring\\xa0Kenya, he is a former footballer. The\\xa0Rio games will be his first international competition.\\n\\nMaryan Nuh Muse, 19,\\xa0has already represented Somalia in various African and international competitions including the 2014 Youth Olympic Games in China. She will be running in the 400m.\\n\\nThe road to the Olympics has not been an easy one. Their training sessions at Mogadishu\\'s Banaadir Stadium were not helped by the lack of proper equipment and the poor state of the track.\\n\\nTheir coach,\\xa0Mohamed Addow, told the African news agency recently that they had\\xa0\"been training for seven months now and I hope that our efforts will bear fruits\".\\n\\nSomalia\\xa0has taken part in 11 Olympic Games but has never won a single medal. Perhaps these two athletes can change that record.\\n\\nBBC Monitoring reports and analyses news from TV, radio, web and print media around the world. You can follow BBC Monitoring on Twitter and Facebook.',\n",
       "     'content_length': 458,\n",
       "     'title': \"Olympics 2016: Somali athletes' hard road to Rio\"},\n",
       "    '_type': 'google_news'},\n",
       "   {'_id': 'AVZVn-gQqzY1t1OkhrzB',\n",
       "    '_index': 'google_news_v01',\n",
       "    '_score': 0.13753425,\n",
       "    '_source': {'category': 'Olympics',\n",
       "     'content': 'Rio\\'s Olympic Golf Course Overrun with Capybaras and Crocodiles Days Ahead of Summer Games\\n\\nWith many of the world\\'s top golfers having already bowed out of this year\\'s Olympic Games , those intrepid athletes brave enough to make the trip to Rio may be counting on an easier path to victory.While it\\'s true that the likes of Jason Day, Jordan Speith and Dustin Johnson won\\'t be a threat to the attending golfers\\' Olympic hopes this year, capybaras, mini crocodiles, monkeys, boa constrictors and other native wildlife will.The course that will host Olympic golf next Thursday is located in western Rio\\'s Barra da Tijuca, an upscale neighborhood situated between two large lakes and on the edge of the Marapendi nature reserve.The course was constructed last year despite protests from environmental activists who feared the devastating effects of encroaching on the reserve that serves as a home to rare butterflies, pines and other species not found anywhere else on the planet, according to The Guardian Because of its location, the course has become a new home for a host of Brazilian wildlife – including the capybara, the world\\'s largest rodent that can weigh up to 150 pounds.\"They chew down on the grass at night,\" Mark Johnson, director of international agronomy for the PGA Tour told the National Post . \"There are about 30-40 of them inside the course perimeter, but they live here and we play golf here, we co-exist.\"The course is also home to three-toed sloths, monkeys, boa constrictors, owls and caimans (small crocodiles that can grow up to five feet in length), according to The Post. These critters are such frequent visitors that they\\'ve got their own local haunts – holes, 2, 3, 5 and 9.The abundance of ground-nesting owls on the course could also lead to problems: They burrow into the ground and create holes about 20 centimeters in diameter, which could certainly derail even the best of putts.While Olympic organizers may not have foreseen these problems, with just days until the Games they\\'re doing their best to address them.According to Brazilian newspaper Folha De Sao Paulo , the IOC has arranged to have a team of at least five biologists at the venue to move the caimans out of the way during the match.',\n",
       "     'content_length': 376,\n",
       "     'title': \"Rio's Olympic Golf Course Overrun with Capybaras and Crocodiles Days Ahead of Summer Games\"},\n",
       "    '_type': 'google_news'},\n",
       "   {'_id': 'AVZVn-fjqzY1t1Okhryg',\n",
       "    '_index': 'google_news_v01',\n",
       "    '_score': 0.12723504,\n",
       "    '_source': {'category': 'Olympics',\n",
       "     'content': 'After athletics and swimming, gymnastics is the third biggest sport (along with cycling and weightlifting) at the Rio 2016 Olympics with 18 gold medals up for grabs across three disciplines.\\n\\nAnd it is at the gymnastics events that you will find the most agile, supple, nimblest and, let\\'s be honest, smallest, athletes at the Olympics. But what does the sport involve, other than leotards?\\n\\nThere are three strands to the gymnastics - artistic, rhythmic and the trampoline...\\n\\nPlease. Gymnasts have to execute a series of moves in mid-air, on which they are judged, and they then have to perform a one-minute routine of their choosing on the trampoline.\\n\\nIt\\'s a first for Team GB with two female trampolinists in Kat Driscoll and Bryony Page, while Nathan Bailey will be Britain\\'s first male trampoline entrant since 2004.\\n\\nBailey finished 17th in the world semi-finals so he\\'ll have to find some extra spring in his steps if he\\'s to bounce his way onto the podium. But Page finished fifth at the 2015 World Championships and is an outside bet for a medal.\\n\\nYes. If you\\'re a male artistic gymnast you compete on six apparatus - floor, vault, horizontal bar, parallel bars, pommel horse and rings - while women tackle four - flour, vault, uneven bars and balance beam. There are also medals for all round individual and team performances.\\n\\nIn rhythmic gymnastics the women do their routines to music with four types of apparatus: hoop, ball, clubs and ribbon with judges scoring athletes for form, execution, control of the apparatus, flexibility and choreography. There are two gold medals on offer.\\n\\nMen don\\'t compete in rhythmic gymnastics, although there are growing calls within the sport to introduce rhythmic gymnastics for men in the Olympics.\\n\\nA panel of nine judges score each gymnast\\'s performance, taking into consideration the difficulty of the routine, the technical quality and its level of execution. The number of spangles on leotards is not involved in the judging process.\\n\\nYes. Russia, one of the powerhouses of Olympic gymnastics, will be sending a near full-strength team after the International Gymnastics Federation made clear it they opposed a blanket ban on Russian competitors\\n\\nIt\\'s true gymnastics is known as a \"one-and-done\" sport, or as John Geddert, head coach of the 2012 US women\\'s Olympic team, explained: \"Without sounding condescending to young women, this is a little girl\\'s sport. With their body changes and the wear-and-tear everybody goes through, once they become women, it just becomes very, very difficult.\"\\n\\nThe 4ft 11in Gabby Douglas of Team USA won the individual all-around title and led her country to team gold at the London Games. Now known as a \"seasoned veteran\", the 20-year-old Douglas is the first Olympic champion to return to the Games to defend her title since Nadia Comaneci in 1980.\\n\\nIn 23-year-old Max Whitlock Team GB has a genuine gold medal contender. The Englishman won individual and team bronzes in the London Olympics, but as he showed in 2015 in becoming the first British man ever to win a World Championship gold medal (pommel horse), he\\'s continued his development. As for the women, 4ft 6in Claudia Fragapane won four gold medals at the 2014 Commonwealth Games (making her England’s most successful Commonwealth Games competitor for 84 years) and the 18-year-old has a slim hope of getting a medal of some colour in Rio.\\n\\nAt the Arena Olímpica do Rio , a multi-purpose arena with a capacity of just under 15,000 that has hosted acts as diverse as Miley Cyrus, Motorhead and Ultimate Fighting Championships.\\n\\nYana Kudryavtseva, Russia:\\xa0The 18-year-old has dominated rhythmic gymnastics winning the world all-around championship three times and she is expected to take gold in Rio.\\n\\nDong Dong, China: He hardly put a foot wrong in London and now Dong Dong is hoping to to repeat his gold medal trampoline triumph in Rio.\\n\\nLouis Smith, Great Britain: After winning a silver on the Pommel Horse in London, Smith retired from the sport and embarked on a reality TV career. But the 27-year-old is back in the saddle, so to speak, adamant he can win gold in Rio despite his age.\\n\\nKohei Uchimura, Japan: The reigning Olympic male champion in artistic gymnastics, Uchimura has won a record six consecutive all-around world titles.\\n\\nDipa Karmakar, India: The 22-year-old artistic gymnast won a bronze at the 2014 Commonwealth Games and is the first female Indian gymnast to appear in an Olympics.\\n\\nThe gymnastics begins on Saturday 6 August with the men\\'s horizontal bar qualification and continues uninterrupted - except for a break on August 17 and 18 - until its conclusion with the group all-around rhythmic on Sunday 21 August.',\n",
       "     'content_length': 778,\n",
       "     'title': 'Olympics 2016: When is the gymnastics and how to watch it'},\n",
       "    '_type': 'google_news'},\n",
       "   {'_id': 'AVZVn-fbqzY1t1Okhryc',\n",
       "    '_index': 'google_news_v01',\n",
       "    '_score': 0.12682569,\n",
       "    '_source': {'category': 'Olympics',\n",
       "     'content': \"By United States Olympic Committee | Aug. 03, 2016, 7:30 a.m. (ET)\\n\\nMichael Phelps participates in a press conference during the 2016 Team USA Media Summit at UCLA's Pauley Pavilion on March 8, 2016 in Westwood, Calif.\\n\\nRIO DE JANEIRO – Michael Phelps, the most decorated Olympian of all time, was selected as Team USA’s flag bearer for the Opening Ceremony of the 2016 Olympic Games, the United States Olympic Committee announced today. The Opening Ceremony will be held Aug. 5 at the Maracanã Stadium in Rio de Janeiro. Phelps, who is the first American male swimmer to qualify for a fifth Olympic Games, was chosen by a vote of fellow Team USA members.\\n\\nPhelps made history at the Beijing Games in 2008 when he won gold medals in eight events and added to his legacy in 2012 when he became the most decorated Olympian of all time with 22 career medals, including 18 golds. Set to compete in three individual events in Rio, Phelps, will look to add to his historic Olympic medal haul in 2016.\\n\\n“I'm honored to be chosen, proud to represent the U.S., and humbled by the significance of carrying the flag and all it stands for,” Phelps said. “For Sydney, I just wanted to make the team. For Athens, I wanted to win gold for my country. For Beijing, I wanted to do something nobody else had done. In London, I wanted to make history. And now, I want to walk in the Opening Ceremony, take it all in, represent America in the best possible way and make my family proud. This time around, it's about so much more than medals.”\\n\\nMaking his Olympic debut at the 2000 Olympics in Sydney, Phelps became the youngest male Olympian since 1932, and his eight gold medals from the Beijing 2008 Olympic Games is an Olympic record.\\n\\nPhelps is only the second swimmer to lead the U.S. delegation into the Opening Ceremony and the fifth swimmer to serve as flag bearer for Team USA at the Olympic Games. Four-time Olympic medalist Gary Hall previously carried the flag into the Opening Ceremony of the 1976 Olympic Games in Montréal.\\n\\nThe 2016 Olympic Games will take place from Aug. 5-21 in Rio de Janeiro, marking the first Olympic Games to be held in South America.\\n\\nFor more information and photos of Team USA at the 2016 Olympic Games, visit TeamUSA.org/Rio2016 and follow Team USA on Facebook, Instagram and Twitter.\\n\\nU.S Olympic Team Flag Bearers – Opening Ceremony\\xa0\\n\\n 1908 \\xa0 \\xa0 Ralph Rose, Track and Field\\n\\n 1912 \\xa0 \\xa0 George Bonhag, Track and Field\\n\\n 1920 \\xa0 \\xa0 Patrick McDonald, Track and Field\\n\\n 1924 \\xa0 \\xa0 Patrick McDonald, Track and Field\\n\\n 1928 \\xa0 \\xa0 Lemuel (Bud) Houser, Track and Field\\n\\n 1932 \\xa0 \\xa0 F. Morgan Taylor, Track and Field\\n\\n 1936 \\xa0 \\xa0 Alfred Jochim, Gymnastics\\n\\n 1948 \\xa0 \\xa0 Ralph Craig, Yachting\\n\\n 1952 \\xa0 \\xa0 Norman Armitage, Fencing\\n\\n 1956 \\xa0 \\xa0 Norman Armitage, Fencing\\n\\n \\xa0 \\xa0 \\xa0 \\xa0 \\xa0 \\xa0 \\xa0Warren Wooford, Equestrian*\\n\\n 1960 \\xa0 \\xa0 Rafer Johnson, Track and Field\\n\\n 1964 \\xa0 \\xa0 William Parry O’Brien, Track and Field\\n\\n 1968 \\xa0 \\xa0 Janice Lee Romary, Fencing\\n\\n 1972 \\xa0 \\xa0 Olga Fikotova Connolly, Track and Field\\n\\n 1976 \\xa0 \\xa0 Gary Hall, Swimming\\n\\n 1980 \\xa0 \\xa0 U.S. did not attend\\n\\n 1984 \\xa0 \\xa0 Edward Burke, Track and Field\\n\\n 1988 \\xa0 \\xa0 Evelyn Ashford, Track and Field\\n\\n 1992 \\xa0 \\xa0 Francie Larrieu Smith, Track and Field\\n\\n 1996 \\xa0 \\xa0 Bruce Baumgartner, Wrestling\\n\\n 2000 \\xa0 \\xa0 Cliff Meidl, Canoe/Kayak\\n\\n 2004 \\xa0 \\xa0 Dawn Staley, Basketball\\n\\n 2008 \\xa0 \\xa0 Lopez Lomong, Track and Field\\n\\n 2012 \\xa0 \\xa0 Mariel Zagunis, Fencing\\n\\n 2016 \\xa0 \\xa0 Michael Phelps, Swimming\\n\\n \\n\\n *Due to Australia’s immigration laws for horses, the 1956 equestrian events were held in Stockholm, Sweden.\\n\\n \\n\\n\",\n",
       "     'content_length': 569,\n",
       "     'title': 'Michael Phelps Selected As ’s Flag Bearer For Rio 2016 Olympic Games'},\n",
       "    '_type': 'google_news'},\n",
       "   {'_id': 'AVZVn-gUqzY1t1OkhrzE',\n",
       "    '_index': 'google_news_v01',\n",
       "    '_score': 0.12466438,\n",
       "    '_source': {'category': 'Olympics',\n",
       "     'content': 'The 2016 Olympic Games was plagued before it had even begun.\\n\\nAn outbreak of the Zika virus, an infection suspected of leading to babies being born with underdeveloped brains, in Brazil this year has put question marks over whether the spectacle should be relocated.\\n\\nThe World Health Organisation (WHO) rejected a call to move or postpone the Games, which has lead to an exodus of athletes from different events.\\n\\nTry Newsweek for only $1.25 per week\\n\\nHere, Newsweek outlines which competitors have withdrawn their participation from Rio 2016 and why.\\n\\nMilos Raonic — The 25-year-old Canadian pulled out three weeks before the Games began. “I am making this decision for a variety of health concerns including the uncertainty around Zika,” said the world no. 7.\\n\\nSimona Halep — The Wimbledon quarter-finalist also cited concerns over the infection for why she was withdrawing.\\n\\nNick Kyrgios — Worries about the impact of Zika were not at the forefront of Kygios’ withdrawal. The 21-year-old accused the Australian Olympic Committee (AOC) of “unfair and unjust treatment” and “unwarranted attacks” as reasons for his decision.\\n\\nJohn Isner — The top-ranked American male on the tour has opted to skip the Olympics, and is set to play at the Atlanta Open instead.\\n\\nDominic Thieme — There are “many reasons” why the Austrian decided to drop out of Rio 2016, but Thieme was unwilling to expand on them. He will compete in an ATP event in Mexico, instead.\\n\\nRoger Federer — A knee injury will see the 17-time Grand Slam champion miss out on the Olympics and the rest of the season. He said he was “extremely disappointed” to not be representing Switzerland at the Games.\\n\\nFeliciano Lopez — The two-time Olympian cited concerns over the demands of the tennis schedule, with the tournament falling in the lead up to the U.S. Open. The Spaniard described it as a “very difficult decision.”\\n\\nBernard Tomic — Another player from the tour who cited an “extremely busy playing schedule” as the reason for withdrawing from contention for the Australian tennis team.\\n\\nStan Wawrinka — An aggravated back injury saw the Swiss pull out of the tournament just days before the Olympic Games begun.\\n\\nJordan Spieth — Fears concerning the Zika virus in Brazil lead to the world no. 3 dropping out earlier in July. He became the last of the “big four” in golf to withdraw.\\n\\nRory McIlroy — The Northern Irishman put his decision to pull out of the Olympics down to concerns over the virus but later said the Games were not the “pinnacle” for golfers. “Most athletes dream of competing in the Olympics,” he said. “We dream of winning Claret Jugs and Green Jackets.”\\n\\nDustin Johnson — World no. 2 Johnson said his plans to have more children in the future meant his concerns about Zika “cannot be ignored.” The American described it as “irresponsible” to put his family at risk of contracting the virus.\\n\\nJason Day — Ranked as the best golfer in the world, the Australian Day said Zika was not a risk he was willing to take. In a statement, the 28-year-old said: “Competing at the Olympics has always been a major goal, but golf cannot take precedence over my family.”\\n\\nLee-Anne Price — The South African became the first female golfer to pull out of the Games in June. She said: “I was very much looking forward to the opportunity but I have decided that due to the health concerns surrounding the Zika virus, I will not be participating.”\\n\\nShane Lowry — It was “with a heavy heart” that Irishman Lowry opted to drop out of the Irish team for the Olympics due to the virus.\\n\\nBranden Grace — Getting married in November is likely to lead to the South African starting a family and Grace is not willing to risk catching Zika. He hopes to compete at Tokyo 2020.\\n\\nMarc Leishman — After the Australian’s wife almost died in 2015, Leishman consulted doctors and concluded that the trip was too dangerous for his family to make.\\n\\nCharl Schwartzel — The former Masters champion opted out of representing South Africa at the Games in Rio without specifying a reason.\\n\\nVijay Singh — The Fijan, a former world no. 1, expressed his desire to play at the Olympics but cited Zika as his reason for withdrawing in April.\\n\\nAdam Scott — World no. 7 Scott previously described Olympic golf as an “exhibition” and announced he would not be playing in April. The Australian says his decision is in order to focus on the PGA Tour.\\n\\nLouis Oosthuizen — Family and schedule were the main reasons the 33-year-old South African put forward as his reasons for withdrawing from the Games.\\n\\nGraeme McDowell — Set to replace McIlroy for Ireland, the 36-year-old ruled out the possibility of him competing because of fears about the Zika virus.\\n\\nTejay van Garderen — A pregnant wife lead to the cyclist withdrawing from consideration for the USA team early in June.\\n\\nAlberto Contador — Four weeks of recovery after the Tour de France saw the Spaniard pull out of contention for Spain’s team at the Olympics. He aims to return for the Vuelta a Espana on August 20 as his comeback.\\n\\nSimon Gerrans — A crash during stage 12 of the Tour de France left the Australian with a broken collarbone. He underwent surgery in Barcelona and has ruled himself out of the Olympic Road Race on August 6.\\n\\nStephen Curry — A need to rest a sprained knee was the reason put forward by the American as he pulled out of the USA team.\\n\\nLeBron James — NBA title winner James has decided to opt out of the Games, saying “I could use the rest” after a long season with the Cleveland Cavaliers.',\n",
       "     'content_length': 965,\n",
       "     'title': \"The Zika factor—Who's in and who's out of the 2016 Rio Olympics?\"},\n",
       "    '_type': 'google_news'}],\n",
       "  'max_score': 0.3675009,\n",
       "  'total': 27},\n",
       " 'timed_out': False,\n",
       " 'took': 4}"
      ]
     },
     "execution_count": 141,
     "metadata": {},
     "output_type": "execute_result"
    }
   ],
   "source": [
    "# search not_analyzed field. (term==field)\n",
    "searcher.search('Games', field='content')"
   ]
  },
  {
   "cell_type": "code",
   "execution_count": 142,
   "metadata": {
    "collapsed": false
   },
   "outputs": [
    {
     "data": {
      "text/plain": [
       "{'hits': [{'_id': 'AVZVn-f8qzY1t1Okhryx',\n",
       "   '_index': 'google_news_v01',\n",
       "   '_score': 0.96232545,\n",
       "   '_source': {'category': 'Olympics',\n",
       "    'content': 'Rio 2016 officially gets under way with the opening ceremony on Friday - but the action kicks off on two days before that with the football.\\n\\nThe first group games in the women\\'s tournament take place on Wednesday - so-called day minus 2 - with Sweden facing South Africa at 17:00 BST.\\n\\nThe men start on Thursday, when Iraq play Denmark (17:00 BST).\\n\\nHere\\'s all you need to know...\\n\\nIt\\'s simply for scheduling reasons, as it was at London 2012.\\n\\nWith 16 men\\'s and 12 women\\'s teams, there are 58 matches to get through, with only six rest days.\\n\\nBarcelona forward Neymar will captain a talented Brazil squad aiming to win its first Olympic gold medal.\\n\\nHe is joined by Lazio midfielder Felipe Anderson, Barca club-mate Rafinha and Paris Saint-Germain defender Marquinhos.\\n\\nTottenham forward Son Heung-min will represent South Korea and Chelsea\\'s John Mikel Obi brings experience for Nigeria.\\n\\nMarta is one of the stars of the women\\'s game, having been named world player of the year five times.\\n\\nShe competes in her fourth Olympics for Brazil alongside 38-year-old team-mate Formiga, who is going to her sixth Games and looking to continue her streak of appearing at every women\\'s Olympic football tournament.\\n\\nReigning Olympic champions the USA have seven gold medal winners in their line-up. Among them is goalkeeper Hope Solo, who could win a record fourth Olympic title at Rio, and current world player of the year Carli Lloyd.\\n\\nTeam GB fielded men\\'s and women\\'s teams at London 2012, with both sides reaching the quarter-finals.\\n\\nThere could have been a GB women\\'s team to Rio - thanks to England\\'s third-place finish at the 2015 World Cup - but there was not enough support among the home nations to make it a reality.\\n\\nEngland backed the idea but no-one else did. Fifa was also unwilling to accept a Great Britain team without players from every home nation.\\n\\n\"It\\'s disheartening they couldn\\'t get a side together,\" said former England striker Kelly Smith, who was part of Team GB\\'s 18-strong squad at London.\\n\\n\"The Americans view this as the ultimate. It\\'s a great experience and you get to play against the best teams and players from across the world. \"\\n\\nEven though it was not included in the Olympic programme until 1996, the women\\'s competition is often seen as more prestigious than the men\\'s, which is age-restricted. Only three men in each squad can be over the age of 23.\\n\\nFor many Brazilians, the men\\'s football will be the highlight of the Games, given they have yet to win the gold medal and the tournament is on home soil.\\n\\nBrazil are the firm favourites to take the men\\'s title after the disappointment of losing in the final at London 2012.\\n\\nDefending champions Mexico could prove a difficult opponent again, while Germany also have a strong team.\\n\\nIn the women\\'s event, the USA will be the team to beat after winning gold in 2012 and also coming out on top at the World Cup last year.\\n\\nThe European trio of France, Germany and Sweden will also be strong.',\n",
       "    'content_length': 515,\n",
       "    'title': 'Rio Olympics 2016: Football kicks off Games before opening ceremony'},\n",
       "   '_type': 'google_news'},\n",
       "  {'_id': 'AVZVn-f6qzY1t1Okhryw',\n",
       "   '_index': 'google_news_v01',\n",
       "   '_score': 0.524653,\n",
       "   '_source': {'category': 'Olympics',\n",
       "    'content': 'The governor-general issued the rallying cry, but it was Australian captain Anna Meares who moved all, including herself, to tears as she addressed the Olympic team on the day the Australian flag officially was unfurled at the Rio Olympic\\xa0athletes\\' village.\\n\\nGeneral Sir Peter Cosgrove spoke to the team of how soldiers under pressure revert\\xa0to the heart of their training ground drills, the repetition of excellence. \"People under severe stress, these young men go back to their training and produce something excellent,\" he said. This rang true to Meares, the way hours and years of tedium and monotony are needed to produce flashes of genius at the right of moment.\\n\\nCosgrove said the Games would become the thrill of the Australians\\' adult lifetime, then noted how young many of the team were and added, a little obtusely, that soldiers once were not old enough to vote or drink, but when shot at instantly became adults.\\n\\nConsensus among the 300-odd Australian Olympians listening was that Cosgrove left them with food for thought. Meares, though, stirred them. \"The Olympics are unique,\" she said. \"I\\'ve been asked so many times why I\\'m still here, why I still ride, why I still compete, simple answer is, I love the feeling I get on the rare few days once every four years to wear the green and gold. My name is Anna Meares but it\\'s not my name that makes my rivals take notice, it is the strength and pride I gain in spirit when I put on my green and gold racing gear.\"\\n\\nLater, Meares said it had taken her two days, and until the last minute to write her speech, and even then a technological glitch nearly erased it. She said she had been stuck for grand words, \"so I gave them a piece of me\". On the floor, boxer Shelley Watts was entranced. \"Hearing what she said in there , you get goose bumps,\" she said. \"I was sitting next to a teammate, and there was a tear there. It was an amazing speech.\" Rejoined shooter Daniel\\xa0Repacholi: \"That was great, that speech.\" Meares herself also choked up, and cheerfully admitted it.\\n\\nThe occasion was the raising of the Australian flag. This has become one of the rites of the preliminaries, with all the religious inflexion\\xa0that Baron Pierre de\\xa0Coubertin, the founder of the modern Olympics, deliberately and consciously invested into the Games. In a kind of miniature of the opening ceremony, teams appear five at a time to fly their flags and sing their anthems while gushy rhetoric washes over them. \"Swim the eternal stream,\" an indigenous dancer urged this time.\\n\\nCountries approach this occasion with varying degrees of earnest. The Australians came in their hundreds, fully uniformed and clutching hands to hearts. But the Spanish were represented by a token few, and their NOC representative carried onto the stage with him for the investiture a shopping bag full of souvenirs.\\n\\nGifts horses, the lubricant of the IOC, are exchanged, and for now, it was as well not to look them in the mouth. The broad acres the athletes were assembled on were sewn with artificial grass, they might have noted,\\xa0but at least it was some form of grass. The rest of Rio does not look even that ready. How unready is the business of Saturday and the days beyond.\\n\\nFor now, for the Australians, it is back to work, with the words of Meares ringing in their ears. \"I have lost more races then I have won,\" she said. \"I stand before you still striving for more success and still dreaming the same dream I had as a young girl in country Queensland. I could have retired after London, gone out a winner, gone out on top of my sport. But Rio offered a chance for me to not just be great, but to be greater again.\\n\\n\"No one can find fault or disappointment in anyone who strives to be better in themselves and challenge themselves to do great things. And in its simplest terms it starts with bringing that\\xa0competitive Aussie out in all of us and digging deep like Cathy Freeman,\\xa0Kieren\\xa0Perkins, Herb Elliot,\\xa0Thorpey\\xa0and a great friend of mine, Marjorie Nelson Jackson did in years gone by.\\n\\n\"So to all in this team, in my team, in our team, let\\'s make this Olympics great. Continue to be you, that\\'s what has got you here. Continue to fight and battle and no matter the outcome I, like\\xa0your family, friends, team and country, will be proud of you.\"\\n\\nCosgrove, the arch-spruiker, dipped his lid. \"Anna Meares gave a brilliant address, showing us she\\'s not only a champion of her sport, but a fine leader.\" He added his own exhortation: \"From this point on, you are an Olympian,\" he said. \"That goes with \\xa0you for the rest of your life: you are automatically to be admired for what\\xa0have done, and what you will do.\"\\n\\nHe also said that after millions and millions of words, it was time for deeds. They, too, have their limits. Hyperbole is one. Asked if Cosgrove\\'s words would have driven him to get into the trenches (presumably with his gun),\\xa0Repacholi, a bear of man, replied: \"That scares me!\"\\n\\nAustralia has had a rough start to its Olympic campaign, with the Matilda\\'s losing 2-0 to Canada and conceding the fastest ever goal in Olympic women\\'s football history.',\n",
       "    'content_length': 908,\n",
       "    'title': 'Rio Olympics 2016: Flag-bearer Anna Meares tells Australia to make Games great'},\n",
       "   '_type': 'google_news'},\n",
       "  {'_id': 'AVZVn-fbqzY1t1Okhryc',\n",
       "   '_index': 'google_news_v01',\n",
       "   '_score': 0.50290024,\n",
       "   '_source': {'category': 'Olympics',\n",
       "    'content': \"By United States Olympic Committee | Aug. 03, 2016, 7:30 a.m. (ET)\\n\\nMichael Phelps participates in a press conference during the 2016 Team USA Media Summit at UCLA's Pauley Pavilion on March 8, 2016 in Westwood, Calif.\\n\\nRIO DE JANEIRO – Michael Phelps, the most decorated Olympian of all time, was selected as Team USA’s flag bearer for the Opening Ceremony of the 2016 Olympic Games, the United States Olympic Committee announced today. The Opening Ceremony will be held Aug. 5 at the Maracanã Stadium in Rio de Janeiro. Phelps, who is the first American male swimmer to qualify for a fifth Olympic Games, was chosen by a vote of fellow Team USA members.\\n\\nPhelps made history at the Beijing Games in 2008 when he won gold medals in eight events and added to his legacy in 2012 when he became the most decorated Olympian of all time with 22 career medals, including 18 golds. Set to compete in three individual events in Rio, Phelps, will look to add to his historic Olympic medal haul in 2016.\\n\\n“I'm honored to be chosen, proud to represent the U.S., and humbled by the significance of carrying the flag and all it stands for,” Phelps said. “For Sydney, I just wanted to make the team. For Athens, I wanted to win gold for my country. For Beijing, I wanted to do something nobody else had done. In London, I wanted to make history. And now, I want to walk in the Opening Ceremony, take it all in, represent America in the best possible way and make my family proud. This time around, it's about so much more than medals.”\\n\\nMaking his Olympic debut at the 2000 Olympics in Sydney, Phelps became the youngest male Olympian since 1932, and his eight gold medals from the Beijing 2008 Olympic Games is an Olympic record.\\n\\nPhelps is only the second swimmer to lead the U.S. delegation into the Opening Ceremony and the fifth swimmer to serve as flag bearer for Team USA at the Olympic Games. Four-time Olympic medalist Gary Hall previously carried the flag into the Opening Ceremony of the 1976 Olympic Games in Montréal.\\n\\nThe 2016 Olympic Games will take place from Aug. 5-21 in Rio de Janeiro, marking the first Olympic Games to be held in South America.\\n\\nFor more information and photos of Team USA at the 2016 Olympic Games, visit TeamUSA.org/Rio2016 and follow Team USA on Facebook, Instagram and Twitter.\\n\\nU.S Olympic Team Flag Bearers – Opening Ceremony\\xa0\\n\\n 1908 \\xa0 \\xa0 Ralph Rose, Track and Field\\n\\n 1912 \\xa0 \\xa0 George Bonhag, Track and Field\\n\\n 1920 \\xa0 \\xa0 Patrick McDonald, Track and Field\\n\\n 1924 \\xa0 \\xa0 Patrick McDonald, Track and Field\\n\\n 1928 \\xa0 \\xa0 Lemuel (Bud) Houser, Track and Field\\n\\n 1932 \\xa0 \\xa0 F. Morgan Taylor, Track and Field\\n\\n 1936 \\xa0 \\xa0 Alfred Jochim, Gymnastics\\n\\n 1948 \\xa0 \\xa0 Ralph Craig, Yachting\\n\\n 1952 \\xa0 \\xa0 Norman Armitage, Fencing\\n\\n 1956 \\xa0 \\xa0 Norman Armitage, Fencing\\n\\n \\xa0 \\xa0 \\xa0 \\xa0 \\xa0 \\xa0 \\xa0Warren Wooford, Equestrian*\\n\\n 1960 \\xa0 \\xa0 Rafer Johnson, Track and Field\\n\\n 1964 \\xa0 \\xa0 William Parry O’Brien, Track and Field\\n\\n 1968 \\xa0 \\xa0 Janice Lee Romary, Fencing\\n\\n 1972 \\xa0 \\xa0 Olga Fikotova Connolly, Track and Field\\n\\n 1976 \\xa0 \\xa0 Gary Hall, Swimming\\n\\n 1980 \\xa0 \\xa0 U.S. did not attend\\n\\n 1984 \\xa0 \\xa0 Edward Burke, Track and Field\\n\\n 1988 \\xa0 \\xa0 Evelyn Ashford, Track and Field\\n\\n 1992 \\xa0 \\xa0 Francie Larrieu Smith, Track and Field\\n\\n 1996 \\xa0 \\xa0 Bruce Baumgartner, Wrestling\\n\\n 2000 \\xa0 \\xa0 Cliff Meidl, Canoe/Kayak\\n\\n 2004 \\xa0 \\xa0 Dawn Staley, Basketball\\n\\n 2008 \\xa0 \\xa0 Lopez Lomong, Track and Field\\n\\n 2012 \\xa0 \\xa0 Mariel Zagunis, Fencing\\n\\n 2016 \\xa0 \\xa0 Michael Phelps, Swimming\\n\\n \\n\\n *Due to Australia’s immigration laws for horses, the 1956 equestrian events were held in Stockholm, Sweden.\\n\\n \\n\\n\",\n",
       "    'content_length': 569,\n",
       "    'title': 'Michael Phelps Selected As ’s Flag Bearer For Rio 2016 Olympic Games'},\n",
       "   '_type': 'google_news'},\n",
       "  {'_id': 'AVZVn-gMqzY1t1Okhry-',\n",
       "   '_index': 'google_news_v01',\n",
       "   '_score': 0.50290024,\n",
       "   '_source': {'category': 'Olympics',\n",
       "    'content': 'Engenho de Dentro is a place emblematic of Carioca life, cleaved in half by the Central Railroad of Brazil and normally thrumming with the bossa nova rhythms of Jorge Ben Jor. You could see it, from high in the temporary stands at Rio’s Olympic Stadium, but you could never quite feel it. Already the ‘Olympic bubble’ was in full effect, distancing visitor from native with a giant security cordon that stretched all the way from the stadium gates to the nearest motorway junction.\\n\\nTechnically, this was only Day Minus Two of Rio 2016, so it was wise to reserve judgment on the richness of the experience to come. But there were glimpses of the giant wedge that the Olympics tends to drive between romance and reality. While the official buses barrelled down their designated lanes, the City of God passing by in a postcard-like blur, the rest of the traffic idled in customary gridlock. It was an apt metaphor for the inequities of these Games. With all efforts expended on giving the transient few three weeks of seamless ‘Rio-light’, the frustrations of civic life endured in a metropolis where the money has long since run out.',\n",
       "    'content_length': 196,\n",
       "    'title': 'Rio Olympics 2016: The Games begins - with a tepid contest in front of a thin crowd'},\n",
       "   '_type': 'google_news'},\n",
       "  {'_id': 'AVZVn-gQqzY1t1OkhrzB',\n",
       "   '_index': 'google_news_v01',\n",
       "   '_score': 0.50290024,\n",
       "   '_source': {'category': 'Olympics',\n",
       "    'content': 'Rio\\'s Olympic Golf Course Overrun with Capybaras and Crocodiles Days Ahead of Summer Games\\n\\nWith many of the world\\'s top golfers having already bowed out of this year\\'s Olympic Games , those intrepid athletes brave enough to make the trip to Rio may be counting on an easier path to victory.While it\\'s true that the likes of Jason Day, Jordan Speith and Dustin Johnson won\\'t be a threat to the attending golfers\\' Olympic hopes this year, capybaras, mini crocodiles, monkeys, boa constrictors and other native wildlife will.The course that will host Olympic golf next Thursday is located in western Rio\\'s Barra da Tijuca, an upscale neighborhood situated between two large lakes and on the edge of the Marapendi nature reserve.The course was constructed last year despite protests from environmental activists who feared the devastating effects of encroaching on the reserve that serves as a home to rare butterflies, pines and other species not found anywhere else on the planet, according to The Guardian Because of its location, the course has become a new home for a host of Brazilian wildlife – including the capybara, the world\\'s largest rodent that can weigh up to 150 pounds.\"They chew down on the grass at night,\" Mark Johnson, director of international agronomy for the PGA Tour told the National Post . \"There are about 30-40 of them inside the course perimeter, but they live here and we play golf here, we co-exist.\"The course is also home to three-toed sloths, monkeys, boa constrictors, owls and caimans (small crocodiles that can grow up to five feet in length), according to The Post. These critters are such frequent visitors that they\\'ve got their own local haunts – holes, 2, 3, 5 and 9.The abundance of ground-nesting owls on the course could also lead to problems: They burrow into the ground and create holes about 20 centimeters in diameter, which could certainly derail even the best of putts.While Olympic organizers may not have foreseen these problems, with just days until the Games they\\'re doing their best to address them.According to Brazilian newspaper Folha De Sao Paulo , the IOC has arranged to have a team of at least five biologists at the venue to move the caimans out of the way during the match.',\n",
       "    'content_length': 376,\n",
       "    'title': \"Rio's Olympic Golf Course Overrun with Capybaras and Crocodiles Days Ahead of Summer Games\"},\n",
       "   '_type': 'google_news'}],\n",
       " 'max_score': 0.96232545,\n",
       " 'total': 5}"
      ]
     },
     "execution_count": 142,
     "metadata": {},
     "output_type": "execute_result"
    }
   ],
   "source": [
    "# search not_analyzed field. (term==field)\n",
    "searcher.search('games', field='title')['hits']"
   ]
  },
  {
   "cell_type": "code",
   "execution_count": 143,
   "metadata": {
    "collapsed": false,
    "scrolled": false
   },
   "outputs": [
    {
     "name": "stdout",
     "output_type": "stream",
     "text": [
      "{'category': 'Olympics', 'content_length': 23, 'title': \"'s one-of-a-kind rowing venue provides challenges and opportunities\", 'content': 'Lagoa Stadium, set on a lake in the heart of the city, will provide a unique environment for Olympic Games athletes and spectators'}\n",
      "{'category': 'Olympics', 'content_length': 20, 'title': 'Usain Bolt gets dressed up in colours', 'content': 'Superstar Jamaican sprinter, who has been keeping a low profile since arriving in Rio, posts homage to Olympic Games online'}\n",
      "{'category': 'Olympics', 'content_length': 58, 'title': '12 local athletes heading to Rio 2016 Olympics', 'content': 'With the opening ceremonies for the 31st Olympiad kicking off on Friday, excitement is building for the 2016 Olympic Games in Rio de Janeiro, Brazil.\\n\\nLocally, we are represented across a wide range of sports including rowing, boxing, and golf.\\n\\nHere is a list of our local athletes who will be competing over the next couple of weeks:'}\n",
      "{'category': 'Olympics', 'content_length': 240, 'title': \"2016 Rio Olympics, women's soccer: Brazil players give hosts a winning start to Olympics\", 'content': \"Brazil's Marta in action during the women's soccer match between Brazil and China at the Olympic Stadium in Rio de Janeiro on Wednesday.\\n\\nThe first Olympics in Brazil are underway — aptly with soccer games in the sport's spiritual home and a win for the hosts.\\n\\nIn Rio de Janeiro's Olympic Stadium, the Brazilian women's team eased to a 3-0 victory at the start of its quest for a first Olympic gold.\\n\\nIt's an early sporting high for Brazil, where reservations about the cost of bringing the Olympics to South America for the first time have produced violent reactions.\\n\\nAs the Olympic torch relay, which began with a ceremonial lighting in Ancient Olympia in April, reached Rio there were fresh signs that strife could disrupt the games.\\n\\nPolice used tear gas to break up protests against salary delays for public workers. Other protesters are demanding improvements in education and healthcare, with some angered by the 39.1 billion Brazilian reals ($12 billion) — a mix of public and private money — being spent on building venues and infrastructure for the Olympics.\\n\\nBrazil embarked on its Olympics bid at a time of prosperity in 2006, but the games are opening with the country in the grip of its worst recession in decades.\\n\\nBut there was a cause for celebrations on the football field as headers from Monica and Cristiane either side of Andressa Alves' 59th-minute strike secured Brazil's opening win over China.\"}\n",
      "{'category': 'Olympics', 'content_length': 264, 'title': 'When does the Olympics start: Rio 2016 is already underway with women’s football centre stage', 'content': \"Sweden and South Africa contest first of today's preliminary group matches of the women's football tournament\\n\\nTHE Olympic Games officially get under way on Friday with the opening ceremony – but the action has already kicked off.\\n\\nThe first group games in the women’s tournament began at 5pm today – so-called day minus 2 – with Sweden facing South Africa at\\xa0Rio’s Joao Havelange Olympic Stadium.\\n\\nNilla Fischer netted the only goal of the game to get the Swedes off to a flying start in Group E.\\n\\nBrazil\\xa0are in the same pool and\\xa0play China at the\\xa0same venue later this evening, while defending champions the United States face New Zealand in Belo Horizonte at 11pm.\\n\\nZimbabwe make their Olympic football debut when the country’s women – by far the lowest ranked by Fifa in the tournament at 93rd – play world No 2 Germany in Sao Paulo at 10pm.\\n\\nThe men start on Thursday when Iraq play Denmar, again at 5pm.\\n\\nTeam GB do not play football at the Olympics as the home nations cannot agree on how to combine – London 2012 being the only exception since 1960.\\n\\nFive things you need to know about the Rio Olympics as the Games come to South America for the first time\\n\\nBrazil desperate to win first-ever Olympic football gold medal and end worst run without major trophy since 1989\\n\\nTeam GB fly economy with British Airways to Rio despite airline sponsoring the squad\\n\\nEXCLUSIVE: Mo Farah says Rio de Janeiro will be his last Olympics – but that nothing can top London 2012\"}\n",
      "{'category': 'Olympics', 'content_length': 458, 'title': \"Olympics 2016: Somali athletes' hard road to Rio\", 'content': 'Somalia - the nation that produced double Olympic champion Mo Farah - has sent only two athletes to the\\xa02016 Olympic\\xa0Games in Rio. Runners\\xa0Maryan Nuh Muse\\xa0and Mohamed Daud Mohamed are joining more than 11,000 athletes there. But why such a small team?\\n\\nThe problem is not lack of talent. Both Farah, who won two gold medals at London 2012, and Mohammed Ahmed, who made his Olympic debut then, coming 18th\\xa0in the 10,000m, were born in the Somali capital Mogadishu.\\n\\nBut both were competing for their adoptive countries, having left Somalia with their families when they were youngsters.\\xa0Farah now represents Great Britain and Ahmed\\xa0runs for Canada.\\n\\nFirst, the Somali\\xa0Olympic National\\xa0Committee\\xa0has little by way of a budget for its athletes. The team does not have private doctors. Any medical treatment needed must come\\xa0from public hospitals, themselves under-funded\\xa0and lacking\\xa0proper equipment.\\n\\nIt began preparations for Rio in 2014 by deciding to appoint a technical group charged with travelling widely in Somalia to identify and train potential competitors.\\n\\nBut spotting talent outside Mogadishu has been hampered by the fact that some areas are still under the control of militant Islamist group al-Shabab.\\n\\nAnd many young Somalis have been leaving the country to try to escape the violence and poverty. One was sprinter\\xa0Samia\\xa0Yusuf Omar, who represented Somalia at the Beijing Olympics in 2008.\\n\\nShe initially moved to Ethiopia, in part to avoid being harassed by local militants who disapproved of Muslim women competing in sport.\\n\\nHer story inspired a graphic novel by Richard Kleist\\xa0entitled \"An Olympic Dream\".\\n\\nBut Samia\\'s dream was shattered in 2012\\xa0as she drowned when a boat in which she was trying to reach Europe capsized off the Libyan coast.\\n\\nMohamed Daud Mohamed, 20, will compete in the 5,000m. Born in neighbouring\\xa0Kenya, he is a former footballer. The\\xa0Rio games will be his first international competition.\\n\\nMaryan Nuh Muse, 19,\\xa0has already represented Somalia in various African and international competitions including the 2014 Youth Olympic Games in China. She will be running in the 400m.\\n\\nThe road to the Olympics has not been an easy one. Their training sessions at Mogadishu\\'s Banaadir Stadium were not helped by the lack of proper equipment and the poor state of the track.\\n\\nTheir coach,\\xa0Mohamed Addow, told the African news agency recently that they had\\xa0\"been training for seven months now and I hope that our efforts will bear fruits\".\\n\\nSomalia\\xa0has taken part in 11 Olympic Games but has never won a single medal. Perhaps these two athletes can change that record.\\n\\nBBC Monitoring reports and analyses news from TV, radio, web and print media around the world. You can follow BBC Monitoring on Twitter and Facebook.'}\n",
      "{'category': 'Olympics', 'content_length': 376, 'title': \"Rio's Olympic Golf Course Overrun with Capybaras and Crocodiles Days Ahead of Summer Games\", 'content': 'Rio\\'s Olympic Golf Course Overrun with Capybaras and Crocodiles Days Ahead of Summer Games\\n\\nWith many of the world\\'s top golfers having already bowed out of this year\\'s Olympic Games , those intrepid athletes brave enough to make the trip to Rio may be counting on an easier path to victory.While it\\'s true that the likes of Jason Day, Jordan Speith and Dustin Johnson won\\'t be a threat to the attending golfers\\' Olympic hopes this year, capybaras, mini crocodiles, monkeys, boa constrictors and other native wildlife will.The course that will host Olympic golf next Thursday is located in western Rio\\'s Barra da Tijuca, an upscale neighborhood situated between two large lakes and on the edge of the Marapendi nature reserve.The course was constructed last year despite protests from environmental activists who feared the devastating effects of encroaching on the reserve that serves as a home to rare butterflies, pines and other species not found anywhere else on the planet, according to The Guardian Because of its location, the course has become a new home for a host of Brazilian wildlife – including the capybara, the world\\'s largest rodent that can weigh up to 150 pounds.\"They chew down on the grass at night,\" Mark Johnson, director of international agronomy for the PGA Tour told the National Post . \"There are about 30-40 of them inside the course perimeter, but they live here and we play golf here, we co-exist.\"The course is also home to three-toed sloths, monkeys, boa constrictors, owls and caimans (small crocodiles that can grow up to five feet in length), according to The Post. These critters are such frequent visitors that they\\'ve got their own local haunts – holes, 2, 3, 5 and 9.The abundance of ground-nesting owls on the course could also lead to problems: They burrow into the ground and create holes about 20 centimeters in diameter, which could certainly derail even the best of putts.While Olympic organizers may not have foreseen these problems, with just days until the Games they\\'re doing their best to address them.According to Brazilian newspaper Folha De Sao Paulo , the IOC has arranged to have a team of at least five biologists at the venue to move the caimans out of the way during the match.'}\n",
      "{'category': 'Olympics', 'content_length': 778, 'title': 'Olympics 2016: When is the gymnastics and how to watch it', 'content': 'After athletics and swimming, gymnastics is the third biggest sport (along with cycling and weightlifting) at the Rio 2016 Olympics with 18 gold medals up for grabs across three disciplines.\\n\\nAnd it is at the gymnastics events that you will find the most agile, supple, nimblest and, let\\'s be honest, smallest, athletes at the Olympics. But what does the sport involve, other than leotards?\\n\\nThere are three strands to the gymnastics - artistic, rhythmic and the trampoline...\\n\\nPlease. Gymnasts have to execute a series of moves in mid-air, on which they are judged, and they then have to perform a one-minute routine of their choosing on the trampoline.\\n\\nIt\\'s a first for Team GB with two female trampolinists in Kat Driscoll and Bryony Page, while Nathan Bailey will be Britain\\'s first male trampoline entrant since 2004.\\n\\nBailey finished 17th in the world semi-finals so he\\'ll have to find some extra spring in his steps if he\\'s to bounce his way onto the podium. But Page finished fifth at the 2015 World Championships and is an outside bet for a medal.\\n\\nYes. If you\\'re a male artistic gymnast you compete on six apparatus - floor, vault, horizontal bar, parallel bars, pommel horse and rings - while women tackle four - flour, vault, uneven bars and balance beam. There are also medals for all round individual and team performances.\\n\\nIn rhythmic gymnastics the women do their routines to music with four types of apparatus: hoop, ball, clubs and ribbon with judges scoring athletes for form, execution, control of the apparatus, flexibility and choreography. There are two gold medals on offer.\\n\\nMen don\\'t compete in rhythmic gymnastics, although there are growing calls within the sport to introduce rhythmic gymnastics for men in the Olympics.\\n\\nA panel of nine judges score each gymnast\\'s performance, taking into consideration the difficulty of the routine, the technical quality and its level of execution. The number of spangles on leotards is not involved in the judging process.\\n\\nYes. Russia, one of the powerhouses of Olympic gymnastics, will be sending a near full-strength team after the International Gymnastics Federation made clear it they opposed a blanket ban on Russian competitors\\n\\nIt\\'s true gymnastics is known as a \"one-and-done\" sport, or as John Geddert, head coach of the 2012 US women\\'s Olympic team, explained: \"Without sounding condescending to young women, this is a little girl\\'s sport. With their body changes and the wear-and-tear everybody goes through, once they become women, it just becomes very, very difficult.\"\\n\\nThe 4ft 11in Gabby Douglas of Team USA won the individual all-around title and led her country to team gold at the London Games. Now known as a \"seasoned veteran\", the 20-year-old Douglas is the first Olympic champion to return to the Games to defend her title since Nadia Comaneci in 1980.\\n\\nIn 23-year-old Max Whitlock Team GB has a genuine gold medal contender. The Englishman won individual and team bronzes in the London Olympics, but as he showed in 2015 in becoming the first British man ever to win a World Championship gold medal (pommel horse), he\\'s continued his development. As for the women, 4ft 6in Claudia Fragapane won four gold medals at the 2014 Commonwealth Games (making her England’s most successful Commonwealth Games competitor for 84 years) and the 18-year-old has a slim hope of getting a medal of some colour in Rio.\\n\\nAt the Arena Olímpica do Rio , a multi-purpose arena with a capacity of just under 15,000 that has hosted acts as diverse as Miley Cyrus, Motorhead and Ultimate Fighting Championships.\\n\\nYana Kudryavtseva, Russia:\\xa0The 18-year-old has dominated rhythmic gymnastics winning the world all-around championship three times and she is expected to take gold in Rio.\\n\\nDong Dong, China: He hardly put a foot wrong in London and now Dong Dong is hoping to to repeat his gold medal trampoline triumph in Rio.\\n\\nLouis Smith, Great Britain: After winning a silver on the Pommel Horse in London, Smith retired from the sport and embarked on a reality TV career. But the 27-year-old is back in the saddle, so to speak, adamant he can win gold in Rio despite his age.\\n\\nKohei Uchimura, Japan: The reigning Olympic male champion in artistic gymnastics, Uchimura has won a record six consecutive all-around world titles.\\n\\nDipa Karmakar, India: The 22-year-old artistic gymnast won a bronze at the 2014 Commonwealth Games and is the first female Indian gymnast to appear in an Olympics.\\n\\nThe gymnastics begins on Saturday 6 August with the men\\'s horizontal bar qualification and continues uninterrupted - except for a break on August 17 and 18 - until its conclusion with the group all-around rhythmic on Sunday 21 August.'}\n",
      "{'category': 'Olympics', 'content_length': 569, 'title': 'Michael Phelps Selected As ’s Flag Bearer For Rio 2016 Olympic Games', 'content': \"By United States Olympic Committee | Aug. 03, 2016, 7:30 a.m. (ET)\\n\\nMichael Phelps participates in a press conference during the 2016 Team USA Media Summit at UCLA's Pauley Pavilion on March 8, 2016 in Westwood, Calif.\\n\\nRIO DE JANEIRO – Michael Phelps, the most decorated Olympian of all time, was selected as Team USA’s flag bearer for the Opening Ceremony of the 2016 Olympic Games, the United States Olympic Committee announced today. The Opening Ceremony will be held Aug. 5 at the Maracanã Stadium in Rio de Janeiro. Phelps, who is the first American male swimmer to qualify for a fifth Olympic Games, was chosen by a vote of fellow Team USA members.\\n\\nPhelps made history at the Beijing Games in 2008 when he won gold medals in eight events and added to his legacy in 2012 when he became the most decorated Olympian of all time with 22 career medals, including 18 golds. Set to compete in three individual events in Rio, Phelps, will look to add to his historic Olympic medal haul in 2016.\\n\\n“I'm honored to be chosen, proud to represent the U.S., and humbled by the significance of carrying the flag and all it stands for,” Phelps said. “For Sydney, I just wanted to make the team. For Athens, I wanted to win gold for my country. For Beijing, I wanted to do something nobody else had done. In London, I wanted to make history. And now, I want to walk in the Opening Ceremony, take it all in, represent America in the best possible way and make my family proud. This time around, it's about so much more than medals.”\\n\\nMaking his Olympic debut at the 2000 Olympics in Sydney, Phelps became the youngest male Olympian since 1932, and his eight gold medals from the Beijing 2008 Olympic Games is an Olympic record.\\n\\nPhelps is only the second swimmer to lead the U.S. delegation into the Opening Ceremony and the fifth swimmer to serve as flag bearer for Team USA at the Olympic Games. Four-time Olympic medalist Gary Hall previously carried the flag into the Opening Ceremony of the 1976 Olympic Games in Montréal.\\n\\nThe 2016 Olympic Games will take place from Aug. 5-21 in Rio de Janeiro, marking the first Olympic Games to be held in South America.\\n\\nFor more information and photos of Team USA at the 2016 Olympic Games, visit TeamUSA.org/Rio2016 and follow Team USA on Facebook, Instagram and Twitter.\\n\\nU.S Olympic Team Flag Bearers – Opening Ceremony\\xa0\\n\\n 1908 \\xa0 \\xa0 Ralph Rose, Track and Field\\n\\n 1912 \\xa0 \\xa0 George Bonhag, Track and Field\\n\\n 1920 \\xa0 \\xa0 Patrick McDonald, Track and Field\\n\\n 1924 \\xa0 \\xa0 Patrick McDonald, Track and Field\\n\\n 1928 \\xa0 \\xa0 Lemuel (Bud) Houser, Track and Field\\n\\n 1932 \\xa0 \\xa0 F. Morgan Taylor, Track and Field\\n\\n 1936 \\xa0 \\xa0 Alfred Jochim, Gymnastics\\n\\n 1948 \\xa0 \\xa0 Ralph Craig, Yachting\\n\\n 1952 \\xa0 \\xa0 Norman Armitage, Fencing\\n\\n 1956 \\xa0 \\xa0 Norman Armitage, Fencing\\n\\n \\xa0 \\xa0 \\xa0 \\xa0 \\xa0 \\xa0 \\xa0Warren Wooford, Equestrian*\\n\\n 1960 \\xa0 \\xa0 Rafer Johnson, Track and Field\\n\\n 1964 \\xa0 \\xa0 William Parry O’Brien, Track and Field\\n\\n 1968 \\xa0 \\xa0 Janice Lee Romary, Fencing\\n\\n 1972 \\xa0 \\xa0 Olga Fikotova Connolly, Track and Field\\n\\n 1976 \\xa0 \\xa0 Gary Hall, Swimming\\n\\n 1980 \\xa0 \\xa0 U.S. did not attend\\n\\n 1984 \\xa0 \\xa0 Edward Burke, Track and Field\\n\\n 1988 \\xa0 \\xa0 Evelyn Ashford, Track and Field\\n\\n 1992 \\xa0 \\xa0 Francie Larrieu Smith, Track and Field\\n\\n 1996 \\xa0 \\xa0 Bruce Baumgartner, Wrestling\\n\\n 2000 \\xa0 \\xa0 Cliff Meidl, Canoe/Kayak\\n\\n 2004 \\xa0 \\xa0 Dawn Staley, Basketball\\n\\n 2008 \\xa0 \\xa0 Lopez Lomong, Track and Field\\n\\n 2012 \\xa0 \\xa0 Mariel Zagunis, Fencing\\n\\n 2016 \\xa0 \\xa0 Michael Phelps, Swimming\\n\\n \\n\\n *Due to Australia’s immigration laws for horses, the 1956 equestrian events were held in Stockholm, Sweden.\\n\\n \\n\\n\"}\n",
      "{'category': 'Olympics', 'content_length': 965, 'title': \"The Zika factor—Who's in and who's out of the 2016 Rio Olympics?\", 'content': 'The 2016 Olympic Games was plagued before it had even begun.\\n\\nAn outbreak of the Zika virus, an infection suspected of leading to babies being born with underdeveloped brains, in Brazil this year has put question marks over whether the spectacle should be relocated.\\n\\nThe World Health Organisation (WHO) rejected a call to move or postpone the Games, which has lead to an exodus of athletes from different events.\\n\\nTry Newsweek for only $1.25 per week\\n\\nHere, Newsweek outlines which competitors have withdrawn their participation from Rio 2016 and why.\\n\\nMilos Raonic — The 25-year-old Canadian pulled out three weeks before the Games began. “I am making this decision for a variety of health concerns including the uncertainty around Zika,” said the world no. 7.\\n\\nSimona Halep — The Wimbledon quarter-finalist also cited concerns over the infection for why she was withdrawing.\\n\\nNick Kyrgios — Worries about the impact of Zika were not at the forefront of Kygios’ withdrawal. The 21-year-old accused the Australian Olympic Committee (AOC) of “unfair and unjust treatment” and “unwarranted attacks” as reasons for his decision.\\n\\nJohn Isner — The top-ranked American male on the tour has opted to skip the Olympics, and is set to play at the Atlanta Open instead.\\n\\nDominic Thieme — There are “many reasons” why the Austrian decided to drop out of Rio 2016, but Thieme was unwilling to expand on them. He will compete in an ATP event in Mexico, instead.\\n\\nRoger Federer — A knee injury will see the 17-time Grand Slam champion miss out on the Olympics and the rest of the season. He said he was “extremely disappointed” to not be representing Switzerland at the Games.\\n\\nFeliciano Lopez — The two-time Olympian cited concerns over the demands of the tennis schedule, with the tournament falling in the lead up to the U.S. Open. The Spaniard described it as a “very difficult decision.”\\n\\nBernard Tomic — Another player from the tour who cited an “extremely busy playing schedule” as the reason for withdrawing from contention for the Australian tennis team.\\n\\nStan Wawrinka — An aggravated back injury saw the Swiss pull out of the tournament just days before the Olympic Games begun.\\n\\nJordan Spieth — Fears concerning the Zika virus in Brazil lead to the world no. 3 dropping out earlier in July. He became the last of the “big four” in golf to withdraw.\\n\\nRory McIlroy — The Northern Irishman put his decision to pull out of the Olympics down to concerns over the virus but later said the Games were not the “pinnacle” for golfers. “Most athletes dream of competing in the Olympics,” he said. “We dream of winning Claret Jugs and Green Jackets.”\\n\\nDustin Johnson — World no. 2 Johnson said his plans to have more children in the future meant his concerns about Zika “cannot be ignored.” The American described it as “irresponsible” to put his family at risk of contracting the virus.\\n\\nJason Day — Ranked as the best golfer in the world, the Australian Day said Zika was not a risk he was willing to take. In a statement, the 28-year-old said: “Competing at the Olympics has always been a major goal, but golf cannot take precedence over my family.”\\n\\nLee-Anne Price — The South African became the first female golfer to pull out of the Games in June. She said: “I was very much looking forward to the opportunity but I have decided that due to the health concerns surrounding the Zika virus, I will not be participating.”\\n\\nShane Lowry — It was “with a heavy heart” that Irishman Lowry opted to drop out of the Irish team for the Olympics due to the virus.\\n\\nBranden Grace — Getting married in November is likely to lead to the South African starting a family and Grace is not willing to risk catching Zika. He hopes to compete at Tokyo 2020.\\n\\nMarc Leishman — After the Australian’s wife almost died in 2015, Leishman consulted doctors and concluded that the trip was too dangerous for his family to make.\\n\\nCharl Schwartzel — The former Masters champion opted out of representing South Africa at the Games in Rio without specifying a reason.\\n\\nVijay Singh — The Fijan, a former world no. 1, expressed his desire to play at the Olympics but cited Zika as his reason for withdrawing in April.\\n\\nAdam Scott — World no. 7 Scott previously described Olympic golf as an “exhibition” and announced he would not be playing in April. The Australian says his decision is in order to focus on the PGA Tour.\\n\\nLouis Oosthuizen — Family and schedule were the main reasons the 33-year-old South African put forward as his reasons for withdrawing from the Games.\\n\\nGraeme McDowell — Set to replace McIlroy for Ireland, the 36-year-old ruled out the possibility of him competing because of fears about the Zika virus.\\n\\nTejay van Garderen — A pregnant wife lead to the cyclist withdrawing from consideration for the USA team early in June.\\n\\nAlberto Contador — Four weeks of recovery after the Tour de France saw the Spaniard pull out of contention for Spain’s team at the Olympics. He aims to return for the Vuelta a Espana on August 20 as his comeback.\\n\\nSimon Gerrans — A crash during stage 12 of the Tour de France left the Australian with a broken collarbone. He underwent surgery in Barcelona and has ruled himself out of the Olympic Road Race on August 6.\\n\\nStephen Curry — A need to rest a sprained knee was the reason put forward by the American as he pulled out of the USA team.\\n\\nLeBron James — NBA title winner James has decided to opt out of the Games, saying “I could use the rest” after a long season with the Cleveland Cavaliers.'}\n"
     ]
    }
   ],
   "source": [
    "for row in searcher.search('games', field='content')['hits']['hits']:\n",
    "    print(row['_source'])"
   ]
  },
  {
   "cell_type": "code",
   "execution_count": null,
   "metadata": {
    "collapsed": true
   },
   "outputs": [],
   "source": []
  }
 ],
 "metadata": {
  "anaconda-cloud": {},
  "kernelspec": {
   "display_name": "Python [Root]",
   "language": "python",
   "name": "Python [Root]"
  },
  "language_info": {
   "codemirror_mode": {
    "name": "ipython",
    "version": 3
   },
   "file_extension": ".py",
   "mimetype": "text/x-python",
   "name": "python",
   "nbconvert_exporter": "python",
   "pygments_lexer": "ipython3",
   "version": "3.5.2"
  }
 },
 "nbformat": 4,
 "nbformat_minor": 0
}
