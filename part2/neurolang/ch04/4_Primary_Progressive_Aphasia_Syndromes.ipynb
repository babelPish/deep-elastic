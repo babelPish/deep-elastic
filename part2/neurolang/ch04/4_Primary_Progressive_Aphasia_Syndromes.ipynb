{
 "cells": [
  {
   "cell_type": "markdown",
   "metadata": {},
   "source": [
    "# 4 Primary Progressive Aphasia Syndromes"
   ]
  },
  {
   "cell_type": "markdown",
   "metadata": {},
   "source": [
    "* 바벨피쉬/딥엘라스틱 : 파트 2 - 인지신경언어학 [1]\n",
    "* 김무성    "
   ]
  },
  {
   "cell_type": "markdown",
   "metadata": {},
   "source": [
    "# Contents\n",
    "* Introduction\n",
    "* Historical Background\n",
    "* Progressive Nonfluent/Agrammatic Aphasia (PNFA)\n",
    "* Box 4.1: Creativity in Art and Music: The Positive Side of PPA?\n",
    "* Semantic Dementia (SD) \n",
    "* Logopenic Progressive Aphasia (LPA) \n",
    "* PPA as a Window on the Neurobiology of Language \n",
    "* Summary and Key Points"
   ]
  },
  {
   "cell_type": "markdown",
   "metadata": {},
   "source": [
    "#### 참고\n",
    "* [2] Communication in FTD -  https://ftd.med.upenn.edu/uploads/media_items/primary-progressive-aphasia-clinicopathological-correlations.original.pdf"
   ]
  },
  {
   "cell_type": "markdown",
   "metadata": {},
   "source": [
    "# Introduction"
   ]
  },
  {
   "cell_type": "markdown",
   "metadata": {},
   "source": [
    "Aphasia can arise not only abruptly as a result of a sud- den brain injury, but also gradually as a consequence of a neurodegenerative disease."
   ]
  },
  {
   "cell_type": "markdown",
   "metadata": {},
   "source": [
    "<img src=\"http://www.annalsofian.org/articles/2010/13/6/images/AnnIndianAcadNeurol_2010_13_6_74_74249_f5.jpg\" width=600 />"
   ]
  },
  {
   "cell_type": "markdown",
   "metadata": {},
   "source": [
    "#### primary progressive aphasia (PPA)"
   ]
  },
  {
   "cell_type": "markdown",
   "metadata": {},
   "source": [
    "* During the past few decades, an increasing amount of research has focused on a closely related set of <font color=\"red\">neurodegenerative</font> conditions in which insidiously declining language abilities are the most salient clinical features and the principal cause of restrictions in daily life. \n",
    "* These conditions fall under the rubric of what is called <font color=\"red\">primary progressive aphasia (PPA)</font>."
   ]
  },
  {
   "cell_type": "markdown",
   "metadata": {},
   "source": [
    "#### Three main PPA syndromes "
   ]
  },
  {
   "cell_type": "markdown",
   "metadata": {},
   "source": [
    "Three main PPA syndromes are currently recognized:\n",
    "* rogressive nonfluent/agrammatic aphasia \n",
    "* semantic dementia and \n",
    "* logopenic progressive aphasia"
   ]
  },
  {
   "cell_type": "markdown",
   "metadata": {},
   "source": [
    "<font color=\"red\">\"PPA offers a unique experiment of nature for exploring the molecular fingerprints that make the language network a primary disease target and for probing the cognitive architecture of human language as it undergoes a slow but relentless dissolution”</font>"
   ]
  },
  {
   "cell_type": "markdown",
   "metadata": {},
   "source": [
    "#### frontotemporal dementia (FTD)"
   ]
  },
  {
   "cell_type": "markdown",
   "metadata": {},
   "source": [
    "Demographically, although no studies have directly addressed the frequency of PPA, a rough estimate can be derived by considering that PPA is often in the clinical spectrum related to frontotemporal dementia (FTD)."
   ]
  },
  {
   "cell_type": "markdown",
   "metadata": {},
   "source": [
    "<img src=\"http://i57.tinypic.com/2rescpz.jpg\" width=600 />"
   ]
  },
  {
   "cell_type": "markdown",
   "metadata": {},
   "source": [
    "#### This chapter"
   ]
  },
  {
   "cell_type": "markdown",
   "metadata": {},
   "source": [
    "This chapter reviews some of the key findings about PPA. \n",
    "* It begins by summarizing the history of research on this topic, and \n",
    "* then it describes in detail the three main PPA syndromes"
   ]
  },
  {
   "cell_type": "markdown",
   "metadata": {},
   "source": [
    "As with the classic aphasia syn- dromes covered in Chapter 3, each PPA syndrome is discussed in terms of the following features: \n",
    "* production, \n",
    "* comprehension, \n",
    "* repetition, and \n",
    "* lesion correlates. "
   ]
  },
  {
   "cell_type": "markdown",
   "metadata": {},
   "source": [
    "Unlike in Chapter 3, however, \n",
    "* the discussion of the lesion correlates of each syndrome \n",
    "    - goes beyond findings about macroscopic areas of brain damage \n",
    "    - to encompass data on microscopic histopathological and \n",
    "    - genetic “biomarkers.” \n",
    "* In addition, the survey of each syndrome includes \n",
    "    - a brief description of associated neurological deficits. "
   ]
  },
  {
   "cell_type": "markdown",
   "metadata": {},
   "source": [
    "# Historical Background"
   ]
  },
  {
   "cell_type": "markdown",
   "metadata": {},
   "source": [
    "* The French neurologist Paul Sérieux (1893) described a woman with a <font color=\"red\">slow deterioration of word comprehension, but without a concomitant loss of memory or intelligence</font>. At autopsy, her brain showed cortical atrophy and neuronal loss in both temporal lobes (Dejerine & Sérieux, 1897). This patient is generally regarded as the first clear-cut case of PPA in the history of neurology."
   ]
  },
  {
   "cell_type": "markdown",
   "metadata": {},
   "source": [
    "* After these discoveries, it quickly became clear that progressive aphasia is manifested in <font color=\"red\">at least two forms</font>: \n",
    "    - <font color=\"blue\">fluent but with semantic disturbances</font>, as in the cases observed by Sérieux and Warrington; and \n",
    "    - <font color=\"blue\">nonfluent/ agrammatic</font>, as in the cases observed by Mesulam. \n",
    "* The official term “primary progressive aphasia” was not introduced, however, until the late 1980s, when Mesulam (1987) proposed it in a commentary on a pioneering neuropathological investigation by Kirshner et al. (1987)."
   ]
  },
  {
   "cell_type": "markdown",
   "metadata": {},
   "source": [
    "* Shortly thereafter, in an effort to refine the definition of PPA, Mesulam (2001) suggested that in order for a patient to receive this diagnosis, <font color=\"red\">slowly declining language abilities</font> must be the dominant deficit for at least two years after the onset of symptoms.\n",
    "    - This two-year rule was admittedly somewhat arbitrary, especially in light of cases who have exclusively linguistic impairments for up to 14 years"
   ]
  },
  {
   "cell_type": "markdown",
   "metadata": {},
   "source": [
    "<img src=\"figures/cap4.1.png\" width=600 />"
   ]
  },
  {
   "cell_type": "markdown",
   "metadata": {},
   "source": [
    "<img src=\"figures/cap4.2.png\" width=600 />"
   ]
  },
  {
   "cell_type": "markdown",
   "metadata": {},
   "source": [
    "<img src=\"figures/cap4.4.png\" width=600 />"
   ]
  },
  {
   "cell_type": "markdown",
   "metadata": {},
   "source": [
    "There are three major variants of PPA: \n",
    "* progressive nonfluent/ agrammatic aphasia (PNFA); \n",
    "* semantic dementia (SD); and \n",
    "* logopenic progressive aphasia (LPA). \n",
    "\n",
    "Each of these syndromes is defined in terms of specific behavioral features:\n",
    "* PNFA is characterized mainly by \n",
    "    - a degradation of morphology and syntax;\n",
    "* SD is characterized mainly by \n",
    "    - a degradation of conceptual knowledge; and\n",
    "* LPA is characterized mainly by \n",
    "    - a degradation of \n",
    "        - word retrieval and \n",
    "        - auditory–verbal short-term memory. \n",
    "\n",
    "In addition, each variant of PPA is linked with a unique anatomical distribution of cortical thinning"
   ]
  },
  {
   "cell_type": "markdown",
   "metadata": {},
   "source": [
    "<img src=\"figures/cap4.3.png\" width=600 />"
   ]
  },
  {
   "cell_type": "markdown",
   "metadata": {},
   "source": [
    "Although the first two variants of PPA—namely, PNFA and SD—have been recognized for over 20 years, the third variant—namely, LPA—was not identified as a separate syndrome until quite recently (Gorno-Tempini et al., 2004). "
   ]
  },
  {
   "cell_type": "markdown",
   "metadata": {},
   "source": [
    "# Progressive Nonfluent/Agrammatic Aphasia (PNFA)\n",
    "* Production\n",
    "* Comprehension\n",
    "* Repetition\n",
    "* Lesion Correlates and Other Biomarkers \n",
    "* Associated Neurological Deficits"
   ]
  },
  {
   "cell_type": "markdown",
   "metadata": {},
   "source": [
    "As mentioned above, the hallmark of PNFA is a gradual deterioration of grammatical processing. However, this is only one part of a larger pattern of impaired and preserved language abilities. "
   ]
  },
  {
   "cell_type": "markdown",
   "metadata": {},
   "source": [
    "<img src=\"figures/cap4.3.png\" width=600 />"
   ]
  },
  {
   "cell_type": "markdown",
   "metadata": {},
   "source": [
    "<img src=\"figures/cap4.5.png\" width=600 />"
   ]
  },
  {
   "cell_type": "markdown",
   "metadata": {},
   "source": [
    "## Production"
   ]
  },
  {
   "cell_type": "markdown",
   "metadata": {},
   "source": [
    "* The spontaneous speech of patients with PNFA is markedly non uent; in fact, this is such a salient aspect of the syndrome that it is directly codified in the name of the disorder. \n",
    "* Typically, the verbal output of PNFA patients is \n",
    "    - slow, \n",
    "    - effortful, and \n",
    "    - halting, \n",
    "        - with many phonological and \n",
    "    - articulatory mistakes as well as numerous grammatical errors,\n",
    "    - similar in some respects to the speech of Broca’s aphasics"
   ]
  },
  {
   "cell_type": "markdown",
   "metadata": {},
   "source": [
    "<img src=\"figures/cap4.6.png\" width=600 />"
   ]
  },
  {
   "cell_type": "markdown",
   "metadata": {},
   "source": [
    "<font color=\"blue\">\"The sea ... er ... er ... er ... um ... a man in a soup ... no suit ... with a panner [pointing at paddle] falling out of the boat. Er ... nice stand ... no sand next to the sea and the boy making a nice h... h... house ... houses. Another [long pause] m... m... m... man ... a big men ... no man ... and little g... g... girl p... p... playing. The two skygurls [points to seagulls]. Water round castle ...\"</font>"
   ]
  },
  {
   "cell_type": "markdown",
   "metadata": {},
   "source": [
    "The speech sample above also illustrates what some investigators consider to be the central feature of PNFA: agrammatism\n",
    "\n",
    "As the disease progresses, the mean length of patients’ utterances <font color=\"red\">becomes shorter, and the grammatical stuctures that they employ become simpler</font>.\n",
    "* Patients slowly lose their command of closed-class morphemes as well as their ability to generate complex sentences containing subordinate clauses and adjunct phrases. "
   ]
  },
  {
   "cell_type": "markdown",
   "metadata": {},
   "source": [
    "A final point—which is, unfortunately, rather discouraging — concerns the unremitting nature of the dissolution of language in PNFA. In the end-stages of the disease, <font color=\"red\">most patients enter a state of global aphasia</font>, <font color=\"blue\">with output ultimately becoming limited to single words</font>, repeated syllables, or even just grunts."
   ]
  },
  {
   "cell_type": "markdown",
   "metadata": {},
   "source": [
    "## Comprehension"
   ]
  },
  {
   "cell_type": "markdown",
   "metadata": {},
   "source": [
    "* In the early and middle stages of the disease, PNFA patients can usually follow ordinary conversational speech fairly well, but this ability gradually deteriorates. \n",
    "* Single word comprehension is initially quite good; however, patients often have more trouble understanding verbs than nouns \n",
    "* This impairment of complex sentence comprehension may reflect\n",
    "    - a degradation of the neurocognitive mechanisms that are \n",
    "        - dedicated to rapidly, \n",
    "        - automatically, and \n",
    "        - unconsciously analyzing and \n",
    "        - integrating \n",
    "    - the grammatical features of words and phrases as they are heard."
   ]
  },
  {
   "cell_type": "markdown",
   "metadata": {},
   "source": [
    "## Repetition"
   ]
  },
  {
   "cell_type": "markdown",
   "metadata": {},
   "source": [
    "The ability to repeat words, phrases, and sentences is usually defective in this variant of PPA "
   ]
  },
  {
   "cell_type": "markdown",
   "metadata": {},
   "source": [
    "## Lesion Correlates and Other Biomarkers "
   ]
  },
  {
   "cell_type": "markdown",
   "metadata": {},
   "source": [
    "<img src=\"figures/cap4.7.png\" width=600 />"
   ]
  },
  {
   "cell_type": "markdown",
   "metadata": {},
   "source": [
    "* tau pathology\n",
    "* corticobasal degeneration\n",
    "* ubiquitin pathology\n",
    "* progranulin (PGRN) gene"
   ]
  },
  {
   "cell_type": "markdown",
   "metadata": {},
   "source": [
    "<img src=\"https://farm2.staticflickr.com/1588/24564430084_fa91741b33_o.png\" width=600 />"
   ]
  },
  {
   "cell_type": "markdown",
   "metadata": {},
   "source": [
    "## Associated Neurological Deficits"
   ]
  },
  {
   "cell_type": "markdown",
   "metadata": {},
   "source": [
    "* Throughout the early stages of the illness, core cognitive functions remain largely preserved. \n",
    "    - Patients are able to recall daily events and behave with sound judgment.\n",
    "    - Throughout the early stages of the illness, core cognitive functions remain largely preserved. Patients are able to recall daily events and behave with sound judgment.\n",
    "* Even toward the beginning of the disease, however, PNFA is strongly associated with decits involving \n",
    "    - working memory and \n",
    "    - executive function, \n",
    "        - especially in verbal tasks but also in \n",
    "    - some complex visual tasks. \n",
    "* In addition, as the disease advances, it is common for \n",
    "    - motor symptoms to develop, \n",
    "        - including diffuse slowing, \n",
    "    - reduced dexterity, \n",
    "    - mild rigidity, and \n",
    "    - repetitive movements, \n",
    "    - mostly affecting the right hand and the right side of the body. \n",
    "* This is consistent with the view that <font color=\"red\">PNFA is frequently associated with corticobasal degeneration</font>."
   ]
  },
  {
   "cell_type": "markdown",
   "metadata": {},
   "source": [
    "# Box 4.1: Creativity in Art and Music: The Positive Side of PPA?"
   ]
  },
  {
   "cell_type": "markdown",
   "metadata": {},
   "source": [
    "<img src=\"figures/cap4.8.png\" width=600 />"
   ]
  },
  {
   "cell_type": "markdown",
   "metadata": {},
   "source": [
    "<img src=\"figures/cap4.9.png\" width=600 />"
   ]
  },
  {
   "cell_type": "markdown",
   "metadata": {},
   "source": [
    "<img src=\"figures/cap4.10.png\" width=600 />"
   ]
  },
  {
   "cell_type": "markdown",
   "metadata": {},
   "source": [
    "<img src=\"figures/cap4.11.png\" width=600 />"
   ]
  },
  {
   "cell_type": "markdown",
   "metadata": {},
   "source": [
    "# Semantic Dementia (SD) \n",
    "* Production\n",
    "* Comprehension\n",
    "* Repetition\n",
    "* Lesion Correlates and Other Biomarkers \n",
    "* Associated Neurological Deficits"
   ]
  },
  {
   "cell_type": "markdown",
   "metadata": {},
   "source": [
    "<img src=\"figures/cap4.12.png\" width=600 />"
   ]
  },
  {
   "cell_type": "markdown",
   "metadata": {},
   "source": [
    "<img src=\"figures/cap4.13.png\" width=600 />"
   ]
  },
  {
   "cell_type": "markdown",
   "metadata": {},
   "source": [
    "## Production"
   ]
  },
  {
   "cell_type": "markdown",
   "metadata": {},
   "source": [
    "## Comprehension"
   ]
  },
  {
   "cell_type": "markdown",
   "metadata": {},
   "source": [
    "## Repetition"
   ]
  },
  {
   "cell_type": "markdown",
   "metadata": {},
   "source": [
    "<img src=\"figures/cap4.14.png\" width=600 />\n",
    "<img src=\"figures/cap4.15.png\" width=600 />"
   ]
  },
  {
   "cell_type": "markdown",
   "metadata": {},
   "source": [
    "## Lesion Correlates and Other Biomarkers "
   ]
  },
  {
   "cell_type": "markdown",
   "metadata": {},
   "source": [
    "## Associated Neurological Deficits"
   ]
  },
  {
   "cell_type": "markdown",
   "metadata": {},
   "source": [
    "# Logopenic Progressive Aphasia (LPA) \n",
    "* Production\n",
    "* Comprehension\n",
    "* Repetition\n",
    "* Lesion Correlates and Other Biomarkers \n",
    "* Associated Neurological Deficits"
   ]
  },
  {
   "cell_type": "markdown",
   "metadata": {},
   "source": [
    "## Production"
   ]
  },
  {
   "cell_type": "markdown",
   "metadata": {},
   "source": [
    "<img src=\"figures/cap4.16.png\" width=600 />"
   ]
  },
  {
   "cell_type": "markdown",
   "metadata": {},
   "source": [
    "## Comprehension"
   ]
  },
  {
   "cell_type": "markdown",
   "metadata": {},
   "source": [
    "## Repetition"
   ]
  },
  {
   "cell_type": "markdown",
   "metadata": {},
   "source": [
    "## Lesion Correlates and Other Biomarkers "
   ]
  },
  {
   "cell_type": "markdown",
   "metadata": {},
   "source": [
    "## Associated Neurological Deficits"
   ]
  },
  {
   "cell_type": "markdown",
   "metadata": {},
   "source": [
    "# PPA as a Window on the Neurobiology of Language "
   ]
  },
  {
   "cell_type": "markdown",
   "metadata": {},
   "source": [
    "# Summary and Key Points"
   ]
  },
  {
   "cell_type": "markdown",
   "metadata": {},
   "source": [
    "# 참고자료\n",
    "* [1] Cognitive Neuroscience of Language - http://www.amazon.com/Cognitive-Neuroscience-Language-David-Kemmerer/dp/184872621X\n",
    "* [2] Communication in FTD -  https://ftd.med.upenn.edu/uploads/media_items/primary-progressive-aphasia-clinicopathological-correlations.original.pdf"
   ]
  }
 ],
 "metadata": {
  "kernelspec": {
   "display_name": "Python 2",
   "language": "python",
   "name": "python2"
  },
  "language_info": {
   "codemirror_mode": {
    "name": "ipython",
    "version": 2
   },
   "file_extension": ".py",
   "mimetype": "text/x-python",
   "name": "python",
   "nbconvert_exporter": "python",
   "pygments_lexer": "ipython2",
   "version": "2.7.10"
  }
 },
 "nbformat": 4,
 "nbformat_minor": 0
}
