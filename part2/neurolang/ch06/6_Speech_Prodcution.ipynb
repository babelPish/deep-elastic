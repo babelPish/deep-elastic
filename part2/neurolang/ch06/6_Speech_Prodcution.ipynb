{
 "cells": [
  {
   "cell_type": "markdown",
   "metadata": {},
   "source": [
    "# 6. Speech Production"
   ]
  },
  {
   "cell_type": "markdown",
   "metadata": {},
   "source": [
    "# Contents\n",
    "* Introduction\n",
    "* The Lemma Model of Lexical Selection and Form Encoding\n",
    "    - The Architecture of the Model\n",
    "        - Conceptual Focusing and Perspective-Taking\n",
    "        - Lemma Selection\n",
    "        - Interlude: Crossing the Rift\n",
    "        - Retrieving Morphemic Phonological Codes\n",
    "        - Prosodication and Syllabication\n",
    "        - Phonetic Encoding and Articulation\n",
    "        - Self-Monitoring\n",
    "    - Neurobiological Evidence for the Model\n",
    "        - A Meta-Analysis of 82 Brain Mapping Experiments Involving Word Production\n",
    "        - Conceptual Focusing and Perspective-Taking\n",
    "        - Lemma Selection\n",
    "        - Retrieving Morphemic Phonological Codes\n",
    "        - Prosodication and Syllabication\n",
    "        - Phonetic Encoding and Articulation\n",
    "        - Self-Monitoring\n",
    "    - Some Challenges Facing the Model\n",
    "        - The Lemma Dilemma\n",
    "        - Discrete Versus Interactive Processing\n",
    "* The DIVA Model of Speech Motor Control\n",
    "    - How Do You Say “Good Doggie”?\n",
    "    - Feedforward Control\n",
    "    - A Quick Look at the Roles of Forward and Inverse Models in Motor Control\n",
    "    - Auditory Feedback Control\n",
    "    - Somatosensory Feedback Control\n",
    "    - Some Challenges Facing the Model\n",
    "        - The Island of Reil\n",
    "        - Are the Auditory and Somatosensory Feedback Circuits Integrated in the Planum Temporale?\n",
    "* Peripheral Mechanisms of Speech Production\n",
    "* Summary and Key Points"
   ]
  },
  {
   "cell_type": "markdown",
   "metadata": {},
   "source": [
    "# Introduction"
   ]
  },
  {
   "cell_type": "markdown",
   "metadata": {},
   "source": [
    "# The Lemma Model of Lexical Selection and Form Encoding\n",
    "* The Architecture of the Model\n",
    "* Neurobiological Evidence for the Model\n",
    "* Some Challenges Facing the Model"
   ]
  },
  {
   "cell_type": "markdown",
   "metadata": {},
   "source": [
    "## The Architecture of the Model\n",
    "* Conceptual Focusing and Perspective-Taking\n",
    "* Lemma Selection\n",
    "* Interlude: Crossing the Rift\n",
    "* Retrieving Morphemic Phonological Codes\n",
    "* Prosodication and Syllabication\n",
    "* Phonetic Encoding and Articulation\n",
    "* Self-Monitoring"
   ]
  },
  {
   "cell_type": "markdown",
   "metadata": {},
   "source": [
    "### Conceptual Focusing and Perspective-Taking"
   ]
  },
  {
   "cell_type": "markdown",
   "metadata": {},
   "source": [
    "<img src=\"figures/cap6.1.png\" width=600 />"
   ]
  },
  {
   "cell_type": "markdown",
   "metadata": {},
   "source": [
    "<img src=\"figures/cap6.2.png\" width=600 />"
   ]
  },
  {
   "cell_type": "markdown",
   "metadata": {},
   "source": [
    "<img src=\"figures/cap6.3.png\" width=600 />\n",
    "<img src=\"figures/cap6.4.png\" width=600 />"
   ]
  },
  {
   "cell_type": "markdown",
   "metadata": {},
   "source": [
    "<img src=\"figures/cap6.5.png\" width=600 />"
   ]
  },
  {
   "cell_type": "markdown",
   "metadata": {},
   "source": [
    "### Lemma Selection"
   ]
  },
  {
   "cell_type": "markdown",
   "metadata": {},
   "source": [
    "<img src=\"figures/cap6.6.png\" width=600 />"
   ]
  },
  {
   "cell_type": "markdown",
   "metadata": {},
   "source": [
    "### Interlude: Crossing the Rift"
   ]
  },
  {
   "cell_type": "markdown",
   "metadata": {},
   "source": [
    "### Retrieving Morphemic Phonological Codes"
   ]
  },
  {
   "cell_type": "markdown",
   "metadata": {},
   "source": [
    "<img src=\"figures/cap6.7.png\" width=600 />"
   ]
  },
  {
   "cell_type": "markdown",
   "metadata": {},
   "source": [
    "<img src=\"figures/cap6.8.png\" width=600 />"
   ]
  },
  {
   "cell_type": "markdown",
   "metadata": {},
   "source": [
    "<img src=\"figures/cap6.9.png\" width=600 />"
   ]
  },
  {
   "cell_type": "markdown",
   "metadata": {},
   "source": [
    "### Prosodication and Syllabication"
   ]
  },
  {
   "cell_type": "markdown",
   "metadata": {},
   "source": [
    "### Phonetic Encoding and Articulation"
   ]
  },
  {
   "cell_type": "markdown",
   "metadata": {},
   "source": [
    "### Self-Monitoring"
   ]
  },
  {
   "cell_type": "markdown",
   "metadata": {},
   "source": [
    "## Neurobiological Evidence for the Model\n",
    "* A Meta-Analysis of 82 Brain Mapping Experiments Involving Word Production\n",
    "* Conceptual Focusing and Perspective-Taking\n",
    "* Lemma Selection\n",
    "* Retrieving Morphemic Phonological Codes\n",
    "* Prosodication and Syllabication\n",
    "* Phonetic Encoding and Articulation\n",
    "* Self-Monitoring"
   ]
  },
  {
   "cell_type": "markdown",
   "metadata": {},
   "source": [
    "### A Meta-Analysis of 82 Brain Mapping Experiments Involving Word Production"
   ]
  },
  {
   "cell_type": "markdown",
   "metadata": {},
   "source": [
    "<img src=\"figures/cap6.10.png\" width=600 />"
   ]
  },
  {
   "cell_type": "markdown",
   "metadata": {},
   "source": [
    "### Conceptual Focusing and Perspective-Taking"
   ]
  },
  {
   "cell_type": "markdown",
   "metadata": {},
   "source": [
    "<img src=\"figures/cap6.11.png\" width=600 />"
   ]
  },
  {
   "cell_type": "markdown",
   "metadata": {},
   "source": [
    "<img src=\"figures/cap6.12.png\" width=600 />"
   ]
  },
  {
   "cell_type": "markdown",
   "metadata": {},
   "source": [
    "### Lemma Selection"
   ]
  },
  {
   "cell_type": "markdown",
   "metadata": {},
   "source": [
    "<img src=\"figures/cap6.13.png\" width=600 />"
   ]
  },
  {
   "cell_type": "markdown",
   "metadata": {},
   "source": [
    "<img src=\"figures/cap6.14.png\" width=600 />\n",
    "<img src=\"figures/cap6.15.png\" width=600 />"
   ]
  },
  {
   "cell_type": "markdown",
   "metadata": {},
   "source": [
    "<img src=\"figures/cap6.16.png\" width=600 />"
   ]
  },
  {
   "cell_type": "markdown",
   "metadata": {},
   "source": [
    "<img src=\"figures/cap6.17.png\" width=600 />"
   ]
  },
  {
   "cell_type": "markdown",
   "metadata": {},
   "source": [
    "### Retrieving Morphemic Phonological Codes"
   ]
  },
  {
   "cell_type": "markdown",
   "metadata": {},
   "source": [
    "<img src=\"figures/cap6.18.png\" width=600 />\n",
    "<img src=\"figures/cap6.19.png\" width=600 />"
   ]
  },
  {
   "cell_type": "markdown",
   "metadata": {},
   "source": [
    "<img src=\"figures/cap6.20.png\" width=600 />"
   ]
  },
  {
   "cell_type": "markdown",
   "metadata": {},
   "source": [
    "### Prosodication and Syllabication"
   ]
  },
  {
   "cell_type": "markdown",
   "metadata": {},
   "source": [
    "### Phonetic Encoding and Articulation"
   ]
  },
  {
   "cell_type": "markdown",
   "metadata": {},
   "source": [
    "### Self-Monitoring"
   ]
  },
  {
   "cell_type": "markdown",
   "metadata": {},
   "source": [
    "## Some Challenges Facing the Model\n",
    "* The Lemma Dilemma\n",
    "* Discrete Versus Interactive Processing"
   ]
  },
  {
   "cell_type": "markdown",
   "metadata": {},
   "source": [
    "### The Lemma Dilemma"
   ]
  },
  {
   "cell_type": "markdown",
   "metadata": {},
   "source": [
    "<img src=\"figures/cap6.21.png\" width=600 />"
   ]
  },
  {
   "cell_type": "markdown",
   "metadata": {},
   "source": [
    "### Discrete Versus Interactive Processing"
   ]
  },
  {
   "cell_type": "markdown",
   "metadata": {},
   "source": [
    "<img src=\"figures/cap6.22.png\" width=600 />"
   ]
  },
  {
   "cell_type": "markdown",
   "metadata": {},
   "source": [
    "# The DIVA Model of Speech Motor Control\n",
    "* How Do You Say “Good Doggie”?\n",
    "* Feedforward Control\n",
    "* A Quick Look at the Roles of Forward and Inverse Models in Motor Control\n",
    "* Auditory Feedback Control\n",
    "* Somatosensory Feedback Control\n",
    "* Some Challenges Facing the Model"
   ]
  },
  {
   "cell_type": "markdown",
   "metadata": {},
   "source": [
    "## How Do You Say “Good Doggie”?"
   ]
  },
  {
   "cell_type": "markdown",
   "metadata": {},
   "source": [
    "<img src=\"figures/cap6.23.png\" width=600 />\n",
    "<img src=\"figures/cap6.24.png\" width=600 />"
   ]
  },
  {
   "cell_type": "markdown",
   "metadata": {},
   "source": [
    "<img src=\"figures/cap6.25.png\" width=600 />\n",
    "<img src=\"figures/cap6.26.png\" width=600 />"
   ]
  },
  {
   "cell_type": "markdown",
   "metadata": {},
   "source": [
    "<img src=\"figures/cap6.27.png\" width=600 />"
   ]
  },
  {
   "cell_type": "markdown",
   "metadata": {},
   "source": [
    "<img src=\"figures/cap6.28.png\" width=600 />\n",
    "<img src=\"figures/cap6.29.png\" width=600 />"
   ]
  },
  {
   "cell_type": "markdown",
   "metadata": {},
   "source": [
    "## Feedforward Control"
   ]
  },
  {
   "cell_type": "markdown",
   "metadata": {},
   "source": [
    "<img src=\"figures/cap6.30.png\" width=600 />"
   ]
  },
  {
   "cell_type": "markdown",
   "metadata": {},
   "source": [
    "<img src=\"figures/cap6.31.png\" width=600 />\n",
    "<img src=\"figures/cap6.32.png\" width=600 />"
   ]
  },
  {
   "cell_type": "markdown",
   "metadata": {},
   "source": [
    "<img src=\"figures/cap6.33.png\" width=600 />"
   ]
  },
  {
   "cell_type": "markdown",
   "metadata": {},
   "source": [
    "<img src=\"figures/cap6.34.png\" width=600 />"
   ]
  },
  {
   "cell_type": "markdown",
   "metadata": {},
   "source": [
    "## A Quick Look at the Roles of Forward and Inverse Models in Motor Control"
   ]
  },
  {
   "cell_type": "markdown",
   "metadata": {},
   "source": [
    "## Auditory Feedback Control"
   ]
  },
  {
   "cell_type": "markdown",
   "metadata": {},
   "source": [
    "## Somatosensory Feedback Control"
   ]
  },
  {
   "cell_type": "code",
   "execution_count": null,
   "metadata": {
    "collapsed": true
   },
   "outputs": [],
   "source": [
    "<img src=\"figures/cap6.35.png\" width=600 />\n",
    "<img src=\"figures/cap6.36.png\" width=600 />\n",
    "<img src=\"figures/cap6.37.png\" width=600 />\n",
    "<img src=\"figures/cap6.38.png\" width=600 />\n",
    "<img src=\"figures/cap6.39.png\" width=600 />\n",
    "<img src=\"figures/cap6.40.png\" width=600 />\n",
    "<img src=\"figures/cap6.41.png\" width=600 />\n",
    "<img src=\"figures/cap6.42.png\" width=600 />\n",
    "<img src=\"figures/cap6.43.png\" width=600 />\n",
    "<img src=\"figures/cap6.44.png\" width=600 />\n",
    "<img src=\"figures/cap6.45.png\" width=600 />"
   ]
  },
  {
   "cell_type": "markdown",
   "metadata": {},
   "source": [
    "## Some Challenges Facing the Model\n",
    "* The Island of Reil\n",
    "* Are the Auditory and Somatosensory Feedback Circuits Integrated in the Planum Temporale?"
   ]
  },
  {
   "cell_type": "markdown",
   "metadata": {},
   "source": [
    "### The Island of Reil"
   ]
  },
  {
   "cell_type": "markdown",
   "metadata": {},
   "source": [
    "### Are the Auditory and Somatosensory Feedback Circuits Integrated in the Planum Temporale?"
   ]
  },
  {
   "cell_type": "markdown",
   "metadata": {},
   "source": [
    "# Peripheral Mechanisms of Speech Production"
   ]
  },
  {
   "cell_type": "markdown",
   "metadata": {},
   "source": [
    "# Summary and Key Points"
   ]
  },
  {
   "cell_type": "markdown",
   "metadata": {},
   "source": [
    "# 참고자료"
   ]
  },
  {
   "cell_type": "code",
   "execution_count": null,
   "metadata": {
    "collapsed": true
   },
   "outputs": [],
   "source": []
  }
 ],
 "metadata": {
  "kernelspec": {
   "display_name": "Python 2",
   "language": "python",
   "name": "python2"
  },
  "language_info": {
   "codemirror_mode": {
    "name": "ipython",
    "version": 2
   },
   "file_extension": ".py",
   "mimetype": "text/x-python",
   "name": "python",
   "nbconvert_exporter": "python",
   "pygments_lexer": "ipython2",
   "version": "2.7.6"
  }
 },
 "nbformat": 4,
 "nbformat_minor": 0
}
