{
 "cells": [
  {
   "cell_type": "markdown",
   "metadata": {},
   "source": [
    "# 1 The Human Brain"
   ]
  },
  {
   "cell_type": "markdown",
   "metadata": {},
   "source": [
    "* 바벨피쉬/딥엘라스틱 : 파트 1 - 인지신경언어학 [1]\n",
    "* 김무성    "
   ]
  },
  {
   "cell_type": "markdown",
   "metadata": {},
   "source": [
    "# Contents\n",
    "* Introduction\n",
    "* Neurons: The Basic Signaling Units of the Brain \n",
    "    - Anatomy \n",
    "    - Physiology \n",
    "    - Representation \n",
    "* Navigating the Neural Landscape\n",
    "* Building the Brain from the Bottom Up\n",
    "    - Brainstem and Thalamus\n",
    "    - Hippocampus and Amygdala\n",
    "    - Basal Ganglia and Cerebellum\n",
    "* The Cerebral Cortex \n",
    "    - The Major Lobes–—Visible and Hidden\n",
    "    - Gyral–Sulcal Organization \n",
    "    - Cytoarchitectonic Organization\n",
    "    - Connectional Organization \n",
    "    - Sensory, Motor, and Higher-Order Systems\n",
    "* Box 1.1: Born for Phonetics?\n",
    "* Language-Related Regions: Broca’s Area, Wernicke’s Area, and Beyond\n",
    "* Summary and Key Points"
   ]
  },
  {
   "cell_type": "markdown",
   "metadata": {},
   "source": [
    "# Introduction"
   ]
  },
  {
   "cell_type": "markdown",
   "metadata": {},
   "source": [
    "This chapter provides an overview of the general organization of the human brain."
   ]
  },
  {
   "cell_type": "markdown",
   "metadata": {},
   "source": [
    "There are three main sections: The first focuses on the anatomi- cal, physiological, and representational properties of neurons. The second section describes several subcortical structures—specifically, the brainstem and thalamus, the hippocampus and amygdala, and the basal ganglia and cerebellum."
   ]
  },
  {
   "cell_type": "markdown",
   "metadata": {},
   "source": [
    "# Neurons: The Basic Signaling Units of the Brain \n",
    "* Anatomy \n",
    "* Physiology \n",
    "* Representation "
   ]
  },
  {
   "cell_type": "markdown",
   "metadata": {},
   "source": [
    "<img src=\"figures/cap1.1.png\" width=600 />"
   ]
  },
  {
   "cell_type": "markdown",
   "metadata": {},
   "source": [
    "<img src=\"figures/cap1.2.1.png\" width=600 />\n",
    "<img src=\"figures/cap1.2.2.png\" width=600 />"
   ]
  },
  {
   "cell_type": "markdown",
   "metadata": {},
   "source": [
    "## Anatomy"
   ]
  },
  {
   "cell_type": "markdown",
   "metadata": {},
   "source": [
    "* Dendrites \n",
    "    - Richly branching neural structures that receive signals. \n",
    "* Axon \n",
    "    - An elongated branching neural structure that transmits signals.\n",
    "* Myelin sheaths \n",
    "    - Fatty substances that insulate the axon to facilitate signal propagation.\n",
    "* Nodes of Ranvier \n",
    "    - Small spaces between myelin sheaths where signals are renewed.\n",
    "* Terminal buttons \n",
    "    - Axonal endpoints.\n",
    "* Synapses \n",
    "    - Gaps between the terminal buttons of transmitting neurons and the dendrites of receiving neurons."
   ]
  },
  {
   "cell_type": "markdown",
   "metadata": {},
   "source": [
    "<img src=\"figures/cap1.3.png\" width=600 />"
   ]
  },
  {
   "cell_type": "markdown",
   "metadata": {},
   "source": [
    "## Physiology"
   ]
  },
  {
   "cell_type": "markdown",
   "metadata": {},
   "source": [
    "￼\n",
    "* Passive conduction \n",
    "     - The passive flow of electrical currents from the dendrites to the body of a neuron.\n",
    "* Action potential \n",
    "    - Also known as a spike, this is a sudden change in the electrical properties of a neuron such that the net charge inside its axon shifts from negative to positive.\n",
    "* Active conduction \n",
    "    - The recurrence of spikes at the nodes of Ranvier, allowing the signal to traverse the entire length of the axon without fading away."
   ]
  },
  {
   "cell_type": "markdown",
   "metadata": {},
   "source": [
    "<img src=\"figures/cap1.4.png\" width=600 />"
   ]
  },
  {
   "cell_type": "markdown",
   "metadata": {},
   "source": [
    "<img src=\"figures/cap1.5.png\" width=600 />"
   ]
  },
  {
   "cell_type": "markdown",
   "metadata": {},
   "source": [
    "￼\n",
    "The integrative and signaling activity of neurons does not come for free; instead, it requires substantial energy consumption. \n",
    "* Neurotransmitters \n",
    "    - Specialized chemicals that carry signals across the synaptic cleft.\n",
    "* Arteries \n",
    "    - Large vessels that carry oxygenated blood from the heart to the rest of the body, including the brain.\n",
    "* Arterioles \n",
    "    - Small arteries.\n",
    "* Capillaries \n",
    "    - Very small, thin-walled vessels where oxygen is extracted.\n",
    "* Veins \n",
    "    - Vessels that carry deoxygenated blood back to the heart."
   ]
  },
  {
   "cell_type": "markdown",
   "metadata": {},
   "source": [
    "<img src=\"figures/cap1.6.png\" width=600 />"
   ]
  },
  {
   "cell_type": "markdown",
   "metadata": {},
   "source": [
    "## Representation"
   ]
  },
  {
   "cell_type": "markdown",
   "metadata": {},
   "source": [
    "One of the most interesting ways in which assemblies of neurons can capture complex patterns of information is by being configured in multilayered hierarchies. \n",
    "* In the visual system, for example, it is well established that object recognition depends on a long progression of synaptic connections that extend through numerous stages of processing, with early stages representing elementary features of shape and subsequent stages representing increasingly complex combinations of those features."
   ]
  },
  {
   "cell_type": "markdown",
   "metadata": {},
   "source": [
    "<img src=\"figures/cap1.7.png\" width=600 />"
   ]
  },
  {
   "cell_type": "markdown",
   "metadata": {},
   "source": [
    "A final point is that hierarchical coding networks are not limited to bottom-up feedforward connections that allow sensory signals to be matched with knowledge stored in long-term memory. They also contain top- down feedback connections that allow perceptual processes to be guided by internally generated priorities and predictions"
   ]
  },
  {
   "cell_type": "markdown",
   "metadata": {},
   "source": [
    "# Navigating the Neural Landscape"
   ]
  },
  {
   "cell_type": "markdown",
   "metadata": {},
   "source": [
    "￼\n",
    "* Sagittal \n",
    "    - A section that separates the left and right sides of the brain.\n",
    "* Coronal \n",
    "    - A section that separates the front from the back of the brain.\n",
    "* Horizontal \n",
    "    - A section that separates the top from the bottom of the brain.\n",
    "* Rostral/anterior\n",
    "    - Toward the front of the brain.\n",
    "* Caudal/posterior\n",
    "    - Toward the back of the brain\n",
    "* Dorsal/superior\n",
    "    - Toward the top of the brain.\n",
    "* Ventral/inferior\n",
    "    - Toward the bottom of the brain.\n",
    "* Lateral \n",
    "    - Toward the outer left or right side of the brain. \n",
    "* Medial \n",
    "    - Toward the midline of the brain."
   ]
  },
  {
   "cell_type": "markdown",
   "metadata": {},
   "source": [
    "<img src=\"figures/cap1.8.png\" width=800 />"
   ]
  },
  {
   "cell_type": "markdown",
   "metadata": {},
   "source": [
    "# Building the Brain from the Bottom Up\n",
    "* Brainstem and Thalamus\n",
    "* Hippocampus and Amygdala\n",
    "* Basal Ganglia and Cerebellum"
   ]
  },
  {
   "cell_type": "markdown",
   "metadata": {},
   "source": [
    "## Brainstem and Thalamus"
   ]
  },
  {
   "cell_type": "markdown",
   "metadata": {},
   "source": [
    "* The brainstem lies at the base of the brain and is continuous with the spinal cord.\n",
    "    - Anatomically, it has three major sectors—the medulla, the pons, and the midbrain—each of which houses many nuclei. Taken together, these nuclei maintain bodily homeostasis by <font color=\"red\">regulating such basic functions as heart rate, blood pressure, breathing, and degree of wakefulness</font>.\n",
    "* The thalamus is a large egg-shaped structure that sits on top of the brainstem\n",
    "    - Although the word thalamus derives from the Greek expression for “inner chamber,” it is not hollow. Nor is it a homogeneous entity; instead, it is divided into many separate nuclei that collectively handle a massive amount of traf c in the brain.\n",
    "    - The thalamus is sometimes called the “<font color=\"red\">gateway to the cortex</font>” \n",
    "    - In fact, every distinct area in the entire cerebral cortex has reciprocal (i.e., bidirectional) connections with a specific part of the thalamus, and these cortico - thalamo-cortical loops promote reverberatory cycles of activity that may facilitate attention, short-term memory, and the coordination of different brain regions underlying multifaceted mental representations. "
   ]
  },
  {
   "cell_type": "markdown",
   "metadata": {},
   "source": [
    "<img src=\"figures/cap1.9.png\" width=600 />"
   ]
  },
  {
   "cell_type": "markdown",
   "metadata": {},
   "source": [
    "## Hippocampus and Amygdala"
   ]
  },
  {
   "cell_type": "markdown",
   "metadata": {},
   "source": [
    "* The hippocampus is named after a giant seahorse (in Greek hippo means “horse” and kampos means “sea-monster”), but it looks more like a long, curved sau- sage (Figure 1.10).\n",
    "    - All of these structures, as well as some surrounding ones, play crucial roles in the <font color=\"red\">establishment of long-term declarative memories</font>—that is, memories that can be verbally retrieved and reported more or less easily, including factual information about the world (e.g., the current president of the United States) and autobiographical information about your own life (e.g., where you went to high school).\n",
    "    - Basically, the hippocampus receives a huge amount of convergent input from the cerebral cortex, and it processes that input by registering the spatiotemporal relations among all the elements that constitute particular episodes of experience.\n",
    "* The amygdala lies at the anterior tip of the hippocampus (Figure 1.10). Its name derives from the Latin word for “almond,” re ecting its nut-like shape.\n",
    "    - For our purposes, though, what matters most is that it has been reliably implicated in <font color=\"Red\">emotional processing</font>. \n",
    "    - More precisely, the amygdala is crucial for rapidly assessing the salience and significance of stimuli, or what one might simply call their personal value. \n",
    "    - It is particularly sensitive to potentially dangerous situations, as indicated by the sorts of de cits displayed by individuals who have suf- fered amygdala damage."
   ]
  },
  {
   "cell_type": "markdown",
   "metadata": {},
   "source": [
    "<img src=\"figures/cap1.10.png\" width=600 />"
   ]
  },
  {
   "cell_type": "markdown",
   "metadata": {},
   "source": [
    "## Basal Ganglia and Cerebellum"
   ]
  },
  {
   "cell_type": "markdown",
   "metadata": {},
   "source": [
    "* The basal ganglia consist of several tightly integrated nuclei that are located near the thalamus.\n",
    "    - Setting aside many complexities, the operation of the basal ganglia can be characterized roughly as follows (Surmeier, 2013). \n",
    "        - The striatum continually receives signals \n",
    "            - from most of the cerebral cortex, and \n",
    "            - it recognizes in those signals familiar situations, \n",
    "            - like when one walks up to the front door of one’s favorite restaurant. \n",
    "        - The striatum then sends \n",
    "            - this information along \n",
    "                - two parallel routes \n",
    "                    - through the other components of the basal ganglia.\n",
    "                - One of these routes \n",
    "                    - can be thought of as the “go” pathway \n",
    "                        - because its job is to implicitly learn what types of actions are adaptive in certain situations (e.g., push the door),\n",
    "                - whereas the other route \n",
    "                    - can be thought of as the “no-go” pathway \n",
    "                        - because its job is to implicitly learn what types of actions are maladaptive in certain situations \n",
    "    - As the example involving the restaurant suggests, the basal ganglia underlie the unconscious acquisition, selection, initiation, and cessation of what are colloquially <font color=\"red\">called habits and more formally called procedural skills</font>. \n",
    "    - <font color=\"red\">With respect to language</font>, the basal ganglia have been implicated in many aspects of both <font color=\"red\">production and comprehension</font>, and some of these fndings are discussed in later chapters"
   ]
  },
  {
   "cell_type": "markdown",
   "metadata": {},
   "source": [
    "* The cerebellum occupies a space posterior to the medulla and pons.\n",
    "    - The cerebellum has several subdivisions, most of which contribute, in various ways, to <font color=\"red\">regulating muscle tone and ensuring that movements are executed fluidly, with appropriate timing and coordination</font>.\n",
    "    - In addition, lesions affecting certain sectors of the cerebellum frequently impair articulatory control, giving rise to a unique type of dysarthria that is discussed in Chapter 6. "
   ]
  },
  {
   "cell_type": "markdown",
   "metadata": {},
   "source": [
    "<img src=\"figures/cap1.11.png\" width=600 />"
   ]
  },
  {
   "cell_type": "markdown",
   "metadata": {},
   "source": [
    "# The Cerebral Cortex \n",
    "* The Major Lobes–—Visible and Hidden\n",
    "* Gyral–Sulcal Organization \n",
    "* Cytoarchitectonic Organization\n",
    "* Connectional Organization \n",
    "* Sensory, Motor, and Higher-Order Systems"
   ]
  },
  {
   "cell_type": "markdown",
   "metadata": {},
   "source": [
    "## The Major Lobes–—Visible and Hidden"
   ]
  },
  {
   "cell_type": "markdown",
   "metadata": {},
   "source": [
    "<img src=\"figures/cap1.12.png\" width=600 />"
   ]
  },
  {
   "cell_type": "markdown",
   "metadata": {},
   "source": [
    "<img src=\"figures/cap1.13.png\" width=600 />"
   ]
  },
  {
   "cell_type": "markdown",
   "metadata": {},
   "source": [
    "## Gyral–Sulcal Organization"
   ]
  },
  {
   "cell_type": "markdown",
   "metadata": {},
   "source": [
    "Perhaps the most salient feature of the cerebral cortex is that it is folded into many convolutions. \n",
    "* The raised bulges are called gyri, and \n",
    "* the deep grooves are called sulci."
   ]
  },
  {
   "cell_type": "markdown",
   "metadata": {},
   "source": [
    "A very important aspect of cortical anatomy is that, while the same major gyri and sulci are usually exhibited by all normal human brains, their precise shapes and sizes vary substantially, as illustrated in Figure 1.14"
   ]
  },
  {
   "cell_type": "markdown",
   "metadata": {},
   "source": [
    "<img src=\"figures/cap1.14.png\" width=600 />"
   ]
  },
  {
   "cell_type": "markdown",
   "metadata": {},
   "source": [
    "So what are the major gyri and sulci of the human brain? Figure 1.15 presents almost all of them from both lateral and medial perspectives, "
   ]
  },
  {
   "cell_type": "markdown",
   "metadata": {},
   "source": [
    "<img src=\"figures/cap1.15.png\" width=600 />"
   ]
  },
  {
   "cell_type": "markdown",
   "metadata": {},
   "source": [
    "and Figure 1.16 presents just the gyri from ventral, dorsal, rostral, and caudal perspectives."
   ]
  },
  {
   "cell_type": "markdown",
   "metadata": {},
   "source": [
    "<img src=\"figures/cap1.16.png\" width=600 />"
   ]
  },
  {
   "cell_type": "markdown",
   "metadata": {},
   "source": [
    "<img src=\"figures/cap1.17.png\" width=600 />\n",
    "<img src=\"figures/cap1.18.png\" width=600 />"
   ]
  },
  {
   "cell_type": "markdown",
   "metadata": {},
   "source": [
    "<img src=\"figures/cap1.19.png\" width=600 />"
   ]
  },
  {
   "cell_type": "markdown",
   "metadata": {},
   "source": [
    "## Cytoarchitectonic Organization"
   ]
  },
  {
   "cell_type": "markdown",
   "metadata": {},
   "source": [
    "Crosscutting the gyral–sulcal topography of the cerebral cortex is another type of structural arrangement, namely cytoarchitectonic organization, \n",
    "* which has to do with the presence/absence, packing density, and layering of the various types of cells in a given area."
   ]
  },
  {
   "cell_type": "markdown",
   "metadata": {},
   "source": [
    "cytoarchitectonic studies have shown that it is composed almost entirely of six different layers of cells stacked on top of each other (Figure 1.18)."
   ]
  },
  {
   "cell_type": "markdown",
   "metadata": {},
   "source": [
    "<img src=\"figures/cap1.20.png\" width=600 />"
   ]
  },
  {
   "cell_type": "markdown",
   "metadata": {},
   "source": [
    "The most famous map was published in 1909 by Korbinian Brodmann, a German neurologist who liked to dissect brains in his kitchen sink.\n",
    "* The 43 Brodmann areas (BAs) are presented from lateral and medial perspectives in Figure 1.19 and \n",
    "* from ventral, dorsal, rostral, and caudal perspectives in Figure 1.20. "
   ]
  },
  {
   "cell_type": "markdown",
   "metadata": {},
   "source": [
    "<img src=\"figures/cap1.21.png\" width=600 />"
   ]
  },
  {
   "cell_type": "markdown",
   "metadata": {},
   "source": [
    "<img src=\"figures/cap1.22.png\" width=600 />"
   ]
  },
  {
   "cell_type": "markdown",
   "metadata": {},
   "source": [
    "## Connectional Organization"
   ]
  },
  {
   "cell_type": "markdown",
   "metadata": {},
   "source": [
    "Fiber tracts that interconnect different cortical areas within the same hemisphere are often referred to as association pathways or <font color=\"red\">fasciculi</font>. As an illustration, Figure 1.21 depicts the arcuate fasciculus of the left hemisphere (Catani & Mesulam, 2008). "
   ]
  },
  {
   "cell_type": "markdown",
   "metadata": {},
   "source": [
    "<img src=\"figures/cap1.23.png\" width=600 />"
   ]
  },
  {
   "cell_type": "markdown",
   "metadata": {},
   "source": [
    "Three other language-related fasciculi are shown in Figure 1.22 (Catani & Mesulam, 2008). \n",
    "* The inferior fronto-occipital fasciculus links inferior frontal areas with occipital areas; \n",
    "* the inferior longitudinal fasciculus links temporal areas with occipital areas; and the uncinate fasciculus links orbitofrontal areas with anterior temporal areas. \n",
    "* The likely contributions of these and other pathways to various linguistic functions are discussed later (e.g., see Figure 15.4 and the accom- panying text in Chapter 15). "
   ]
  },
  {
   "cell_type": "markdown",
   "metadata": {},
   "source": [
    "<img src=\"figures/cap1.24.png\" width=600 />"
   ]
  },
  {
   "cell_type": "markdown",
   "metadata": {},
   "source": [
    "<img src=\"figures/cap1.25.png\" width=600 />"
   ]
  },
  {
   "cell_type": "markdown",
   "metadata": {},
   "source": [
    "## Sensory, Motor, and Higher-Order Systems"
   ]
  },
  {
   "cell_type": "markdown",
   "metadata": {},
   "source": [
    "<img src=\"figures/cap1.26.png\" width=600 />"
   ]
  },
  {
   "cell_type": "markdown",
   "metadata": {},
   "source": [
    "# Box 1.1: Born for Phonetics?"
   ]
  },
  {
   "cell_type": "markdown",
   "metadata": {},
   "source": [
    "<img src=\"figures/cap1.27.png\" width=600 />"
   ]
  },
  {
   "cell_type": "markdown",
   "metadata": {},
   "source": [
    "<img src=\"figures/cap1.28.png\" width=600 />"
   ]
  },
  {
   "cell_type": "markdown",
   "metadata": {},
   "source": [
    "<img src=\"figures/cap1.29.png\" width=600 />"
   ]
  },
  {
   "cell_type": "markdown",
   "metadata": {},
   "source": [
    "<img src=\"figures/cap1.30.png\" width=600 />"
   ]
  },
  {
   "cell_type": "markdown",
   "metadata": {},
   "source": [
    "# Language-Related Regions: Broca’s Area, Wernicke’s Area, and Beyond"
   ]
  },
  {
   "cell_type": "markdown",
   "metadata": {},
   "source": [
    "<img src=\"figures/cap1.31.png\" width=600 />"
   ]
  },
  {
   "cell_type": "markdown",
   "metadata": {},
   "source": [
    "<img src=\"figures/cap1.32.png\" width=600 />"
   ]
  },
  {
   "cell_type": "markdown",
   "metadata": {},
   "source": [
    "# Summary and Key Points"
   ]
  },
  {
   "cell_type": "markdown",
   "metadata": {},
   "source": [
    "# 참고자료"
   ]
  },
  {
   "cell_type": "markdown",
   "metadata": {},
   "source": [
    "* [1] Cognitive Neuroscience of Language - http://www.amazon.com/Cognitive-Neuroscience-Language-David-Kemmerer/dp/184872621X"
   ]
  }
 ],
 "metadata": {
  "kernelspec": {
   "display_name": "Python 2",
   "language": "python",
   "name": "python2"
  },
  "language_info": {
   "codemirror_mode": {
    "name": "ipython",
    "version": 2
   },
   "file_extension": ".py",
   "mimetype": "text/x-python",
   "name": "python",
   "nbconvert_exporter": "python",
   "pygments_lexer": "ipython2",
   "version": "2.7.10"
  }
 },
 "nbformat": 4,
 "nbformat_minor": 0
}
