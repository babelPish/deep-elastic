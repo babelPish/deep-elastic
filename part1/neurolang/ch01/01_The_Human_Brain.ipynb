{
 "cells": [
  {
   "cell_type": "markdown",
   "metadata": {},
   "source": [
    "# 1 The Human Brain"
   ]
  },
  {
   "cell_type": "markdown",
   "metadata": {},
   "source": [
    "* 바벨피쉬/딥엘라스틱 : 파트 1 - 인지신경언어학 [1]\n",
    "* 김무성    "
   ]
  },
  {
   "cell_type": "markdown",
   "metadata": {},
   "source": [
    "# Conents\n",
    "* Introduction\n",
    "* Neurons: The Basic Signaling Units of the Brain \n",
    "    - Anatomy \n",
    "    - Physiology \n",
    "    - Representation \n",
    "* Navigating the Neural Landscape\n",
    "* Building the Brain from the Bottom Up\n",
    "    - Brainstem and Thalamus\n",
    "    - Hippocampus and Amygdala\n",
    "    - Basal Ganglia and Cerebellum\n",
    "* The Cerebral Cortex \n",
    "    - The Major Lobes–—Visible and Hidden\n",
    "    - Gyral–Sulcal Organization \n",
    "    - Cytoarchitectonic Organization\n",
    "    - Connectional Organization \n",
    "    - Sensory, Motor, and Higher-Order Systems\n",
    "* Box 1.1: Born for Phonetics?\n",
    "* Language-Related Regions: Broca’s Area, Wernicke’s Area, and Beyond\n",
    "* Summary and Key Points"
   ]
  },
  {
   "cell_type": "markdown",
   "metadata": {},
   "source": [
    "# Introduction"
   ]
  },
  {
   "cell_type": "markdown",
   "metadata": {},
   "source": [
    "This chapter provides an overview of the general organization of the human brain."
   ]
  },
  {
   "cell_type": "markdown",
   "metadata": {},
   "source": [
    "There are three main sections: The first focuses on the anatomi- cal, physiological, and representational properties of neurons. The second section describes several subcortical structures—specifically, the brainstem and thalamus, the hippocampus and amygdala, and the basal ganglia and cerebellum."
   ]
  },
  {
   "cell_type": "markdown",
   "metadata": {},
   "source": [
    "# Neurons: The Basic Signaling Units of the Brain \n",
    "* Anatomy \n",
    "* Physiology \n",
    "* Representation "
   ]
  },
  {
   "cell_type": "markdown",
   "metadata": {},
   "source": [
    "<img src=\"figures/cap1.1.png\" width=600 />"
   ]
  },
  {
   "cell_type": "markdown",
   "metadata": {},
   "source": [
    "<img src=\"figures/cap1.2.1.png\" width=600 />\n",
    "<img src=\"figures/cap1.2.2.png\" width=600 />"
   ]
  },
  {
   "cell_type": "markdown",
   "metadata": {},
   "source": [
    "## Anatomy"
   ]
  },
  {
   "cell_type": "markdown",
   "metadata": {},
   "source": [
    "* Dendrites \n",
    "    - Richly branching neural structures that receive signals. \n",
    "* Axon \n",
    "    - An elongated branching neural structure that transmits signals.\n",
    "* Myelin sheaths \n",
    "    - Fatty substances that insulate the axon to facilitate signal propagation.\n",
    "* Nodes of Ranvier \n",
    "    - Small spaces between myelin sheaths where signals are renewed.\n",
    "* Terminal buttons \n",
    "    - Axonal endpoints.\n",
    "* Synapses \n",
    "    - Gaps between the terminal buttons of transmitting neurons and the dendrites of receiving neurons."
   ]
  },
  {
   "cell_type": "markdown",
   "metadata": {},
   "source": [
    "<img src=\"figures/cap1.3.png\" width=600 />"
   ]
  },
  {
   "cell_type": "markdown",
   "metadata": {},
   "source": [
    "## Physiology"
   ]
  },
  {
   "cell_type": "markdown",
   "metadata": {},
   "source": [
    "￼\n",
    "* Passive conduction \n",
    "     - The passive flow of electrical currents from the dendrites to the body of a neuron.\n",
    "* Action potential \n",
    "    - Also known as a spike, this is a sudden change in the electrical properties of a neuron such that the net charge inside its axon shifts from negative to positive.\n",
    "* Active conduction \n",
    "    - The recurrence of spikes at the nodes of Ranvier, allowing the signal to traverse the entire length of the axon without fading away."
   ]
  },
  {
   "cell_type": "markdown",
   "metadata": {},
   "source": [
    "<img src=\"figures/cap1.4.png\" width=600 />"
   ]
  },
  {
   "cell_type": "markdown",
   "metadata": {},
   "source": [
    "<img src=\"figures/cap1.5.png\" width=600 />"
   ]
  },
  {
   "cell_type": "markdown",
   "metadata": {},
   "source": [
    "￼\n",
    "The integrative and signaling activity of neurons does not come for free; instead, it requires substantial energy consumption. \n",
    "* Neurotransmitters \n",
    "    - Specialized chemicals that carry signals across the synaptic cleft.\n",
    "* Arteries \n",
    "    - Large vessels that carry oxygenated blood from the heart to the rest of the body, including the brain.\n",
    "* Arterioles \n",
    "    - Small arteries.\n",
    "* Capillaries \n",
    "    - Very small, thin-walled vessels where oxygen is extracted.\n",
    "* Veins \n",
    "    - Vessels that carry deoxygenated blood back to the heart."
   ]
  },
  {
   "cell_type": "markdown",
   "metadata": {},
   "source": [
    "<img src=\"figures/cap1.6.png\" width=600 />"
   ]
  },
  {
   "cell_type": "markdown",
   "metadata": {},
   "source": [
    "## Representation"
   ]
  },
  {
   "cell_type": "markdown",
   "metadata": {},
   "source": [
    "One of the most interesting ways in which assemblies of neurons can capture complex patterns of information is by being configured in multilayered hierarchies. \n",
    "* In the visual system, for example, it is well established that object recognition depends on a long progression of synaptic connections that extend through numerous stages of processing, with early stages representing elementary features of shape and subsequent stages representing increasingly complex combinations of those features."
   ]
  },
  {
   "cell_type": "markdown",
   "metadata": {},
   "source": [
    "<img src=\"figures/cap1.7.png\" width=600 />"
   ]
  },
  {
   "cell_type": "markdown",
   "metadata": {},
   "source": [
    "A final point is that hierarchical coding networks are not limited to bottom-up feedforward connections that allow sensory signals to be matched with knowledge stored in long-term memory. They also contain top- down feedback connections that allow perceptual processes to be guided by internally generated priorities and predictions"
   ]
  },
  {
   "cell_type": "markdown",
   "metadata": {},
   "source": [
    "# Navigating the Neural Landscape"
   ]
  },
  {
   "cell_type": "markdown",
   "metadata": {},
   "source": [
    "￼\n",
    "* Sagittal \n",
    "    - A section that separates the left and right sides of the brain.\n",
    "* Coronal \n",
    "    - A section that separates the front from the back of the brain.\n",
    "* Horizontal \n",
    "    - A section that separates the top from the bottom of the brain.\n",
    "* Rostral/anterior\n",
    "    - Toward the front of the brain.\n",
    "* Caudal/posterior\n",
    "    - Toward the back of the brain\n",
    "* Dorsal/superior\n",
    "    - Toward the top of the brain.\n",
    "* Ventral/inferior\n",
    "    - Toward the bottom of the brain.\n",
    "* Lateral \n",
    "    - Toward the outer left or right side of the brain. \n",
    "* Medial \n",
    "    - Toward the midline of the brain."
   ]
  },
  {
   "cell_type": "markdown",
   "metadata": {},
   "source": [
    "<img src=\"figures/cap1.8.png\" width=800 />"
   ]
  },
  {
   "cell_type": "markdown",
   "metadata": {},
   "source": [
    "# Building the Brain from the Bottom Up\n",
    "* Brainstem and Thalamus\n",
    "* Hippocampus and Amygdala\n",
    "* Basal Ganglia and Cerebellum"
   ]
  },
  {
   "cell_type": "markdown",
   "metadata": {},
   "source": [
    "## Brainstem and Thalamus"
   ]
  },
  {
   "cell_type": "markdown",
   "metadata": {},
   "source": [
    "<img src=\"figures/cap1.9.png\" width=600 />"
   ]
  },
  {
   "cell_type": "markdown",
   "metadata": {},
   "source": [
    "## Hippocampus and Amygdala"
   ]
  },
  {
   "cell_type": "markdown",
   "metadata": {},
   "source": [
    "<img src=\"figures/cap1.10.png\" width=600 />"
   ]
  },
  {
   "cell_type": "markdown",
   "metadata": {},
   "source": [
    "## Basal Ganglia and Cerebellum"
   ]
  },
  {
   "cell_type": "markdown",
   "metadata": {},
   "source": [
    "<img src=\"figures/cap1.11.png\" width=600 />"
   ]
  },
  {
   "cell_type": "markdown",
   "metadata": {},
   "source": [
    "# The Cerebral Cortex \n",
    "* The Major Lobes–—Visible and Hidden\n",
    "* Gyral–Sulcal Organization \n",
    "* Cytoarchitectonic Organization\n",
    "* Connectional Organization \n",
    "* Sensory, Motor, and Higher-Order Systems"
   ]
  },
  {
   "cell_type": "markdown",
   "metadata": {},
   "source": [
    "## The Major Lobes–—Visible and Hidden"
   ]
  },
  {
   "cell_type": "markdown",
   "metadata": {},
   "source": [
    "<img src=\"figures/cap1.12.png\" width=600 />"
   ]
  },
  {
   "cell_type": "markdown",
   "metadata": {},
   "source": [
    "<img src=\"figures/cap1.13.png\" width=600 />"
   ]
  },
  {
   "cell_type": "markdown",
   "metadata": {},
   "source": [
    "## Gyral–Sulcal Organization"
   ]
  },
  {
   "cell_type": "markdown",
   "metadata": {},
   "source": [
    "<img src=\"figures/cap1.14.png\" width=600 />"
   ]
  },
  {
   "cell_type": "markdown",
   "metadata": {},
   "source": [
    "<img src=\"figures/cap1.15.png\" width=600 />"
   ]
  },
  {
   "cell_type": "markdown",
   "metadata": {},
   "source": [
    "<img src=\"figures/cap1.16.png\" width=600 />"
   ]
  },
  {
   "cell_type": "markdown",
   "metadata": {},
   "source": [
    "<img src=\"figures/cap1.17.png\" width=600 />\n",
    "<img src=\"figures/cap1.18.png\" width=600 />"
   ]
  },
  {
   "cell_type": "markdown",
   "metadata": {},
   "source": [
    "<img src=\"figures/cap1.19.png\" width=600 />"
   ]
  },
  {
   "cell_type": "markdown",
   "metadata": {},
   "source": [
    "## Cytoarchitectonic Organization"
   ]
  },
  {
   "cell_type": "markdown",
   "metadata": {},
   "source": [
    "<img src=\"figures/cap1.20.png\" width=600 />"
   ]
  },
  {
   "cell_type": "markdown",
   "metadata": {},
   "source": [
    "<img src=\"figures/cap1.21.png\" width=600 />"
   ]
  },
  {
   "cell_type": "markdown",
   "metadata": {},
   "source": [
    "<img src=\"figures/cap1.22.png\" width=600 />"
   ]
  },
  {
   "cell_type": "markdown",
   "metadata": {},
   "source": [
    "## Connectional Organization"
   ]
  },
  {
   "cell_type": "markdown",
   "metadata": {},
   "source": [
    "<img src=\"figures/cap1.23.png\" width=600 />"
   ]
  },
  {
   "cell_type": "markdown",
   "metadata": {},
   "source": [
    "<img src=\"figures/cap1.24.png\" width=600 />"
   ]
  },
  {
   "cell_type": "markdown",
   "metadata": {},
   "source": [
    "<img src=\"figures/cap1.25.png\" width=600 />"
   ]
  },
  {
   "cell_type": "markdown",
   "metadata": {},
   "source": [
    "## Sensory, Motor, and Higher-Order Systems"
   ]
  },
  {
   "cell_type": "markdown",
   "metadata": {},
   "source": [
    "<img src=\"figures/cap1.26.png\" width=600 />"
   ]
  },
  {
   "cell_type": "markdown",
   "metadata": {},
   "source": [
    "# Box 1.1: Born for Phonetics?"
   ]
  },
  {
   "cell_type": "markdown",
   "metadata": {},
   "source": [
    "<img src=\"figures/cap1.27.png\" width=600 />"
   ]
  },
  {
   "cell_type": "markdown",
   "metadata": {},
   "source": [
    "<img src=\"figures/cap1.28.png\" width=600 />"
   ]
  },
  {
   "cell_type": "markdown",
   "metadata": {},
   "source": [
    "<img src=\"figures/cap1.29.png\" width=600 />"
   ]
  },
  {
   "cell_type": "markdown",
   "metadata": {},
   "source": [
    "# Language-Related Regions: Broca’s Area, Wernicke’s Area, and Beyond"
   ]
  },
  {
   "cell_type": "markdown",
   "metadata": {},
   "source": [
    "<img src=\"figures/cap1.30.png\" width=600 />"
   ]
  },
  {
   "cell_type": "markdown",
   "metadata": {},
   "source": [
    "<img src=\"figures/cap1.31.png\" width=600 />"
   ]
  },
  {
   "cell_type": "markdown",
   "metadata": {},
   "source": [
    "<img src=\"figures/cap1.32.png\" width=600 />"
   ]
  },
  {
   "cell_type": "markdown",
   "metadata": {},
   "source": [
    "# Summary and Key Points"
   ]
  },
  {
   "cell_type": "markdown",
   "metadata": {},
   "source": [
    "# 참고자료"
   ]
  },
  {
   "cell_type": "markdown",
   "metadata": {},
   "source": [
    "* [1] Cognitive Neuroscience of Language - http://www.amazon.com/Cognitive-Neuroscience-Language-David-Kemmerer/dp/184872621X"
   ]
  }
 ],
 "metadata": {
  "kernelspec": {
   "display_name": "Python 2",
   "language": "python",
   "name": "python2"
  },
  "language_info": {
   "codemirror_mode": {
    "name": "ipython",
    "version": 2
   },
   "file_extension": ".py",
   "mimetype": "text/x-python",
   "name": "python",
   "nbconvert_exporter": "python",
   "pygments_lexer": "ipython2",
   "version": "2.7.10"
  }
 },
 "nbformat": 4,
 "nbformat_minor": 0
}
