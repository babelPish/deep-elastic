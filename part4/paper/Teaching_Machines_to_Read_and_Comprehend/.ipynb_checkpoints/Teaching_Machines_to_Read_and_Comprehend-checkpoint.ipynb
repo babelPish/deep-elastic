{
 "cells": [
  {
   "cell_type": "markdown",
   "metadata": {},
   "source": [
    "# Teaching Machines to Read and Comprehend"
   ]
  },
  {
   "cell_type": "markdown",
   "metadata": {},
   "source": [
    "* 바벨피쉬 / 딥엘라스틱 : 파트 4 - 딥NLP [1]\n",
    "* 김무성"
   ]
  },
  {
   "cell_type": "markdown",
   "metadata": {},
   "source": [
    "<img src=\"https://github.com/carpedm20/attentive-reader-tensorflow/raw/master/assets/models.png\" width=600 />"
   ]
  },
  {
   "cell_type": "markdown",
   "metadata": {},
   "source": [
    "<img src=\"https://github.com/carpedm20/attentive-reader-tensorflow/raw/master/assets/result_from_paper.png\" width=600 />"
   ]
  },
  {
   "cell_type": "markdown",
   "metadata": {},
   "source": [
    "# 슬라이드 "
   ]
  },
  {
   "cell_type": "markdown",
   "metadata": {},
   "source": [
    "#### 참고 \n",
    "* [2] (Slide) Teaching Machines to Read and Comprehend - http://lxmls.it.pt/2015/lxmls15.pdf"
   ]
  },
  {
   "cell_type": "markdown",
   "metadata": {},
   "source": [
    "# Code"
   ]
  },
  {
   "cell_type": "markdown",
   "metadata": {},
   "source": [
    "#### 참고\n",
    "* [3] (code) thomasmesnard/DeepMind-Teaching-Machines-to-Read-and-Comprehend -  https://github.com/thomasmesnard/DeepMind-Teaching-Machines-to-Read-and-Comprehend\n",
    "* [4] (code) carpedm20/attentive-reader-tensorflow - https://github.com/carpedm20/attentive-reader-tensorflow"
   ]
  },
  {
   "cell_type": "markdown",
   "metadata": {},
   "source": [
    "# PropBank"
   ]
  },
  {
   "cell_type": "markdown",
   "metadata": {},
   "source": [
    "# 참고\n",
    "* [5] The Proposition Bank (PropBank) - http://propbank.github.io/\n",
    "* [6] FrameNet, PropBank, VerbNet - http://faculty.ist.unomaha.edu/ylierler/teaching/material/sp13/FrameNetPropBankVerbNet.pptx"
   ]
  },
  {
   "cell_type": "markdown",
   "metadata": {},
   "source": [
    "# Penn Treebank"
   ]
  },
  {
   "cell_type": "markdown",
   "metadata": {},
   "source": [
    "#### 참고\n",
    "* [7] The Penn Treebank Project - http://www.cis.upenn.edu/~treebank/home.html\n",
    "* [8] Language Data Resources : Treebanks - https://ufal.mff.cuni.cz/~zabokrtsky/courses/npfl070/html/slides/pfl070-treebanks.ppt"
   ]
  },
  {
   "cell_type": "markdown",
   "metadata": {},
   "source": [
    "# cloze"
   ]
  },
  {
   "cell_type": "markdown",
   "metadata": {},
   "source": [
    "#### 참고\n",
    "* [9] Cloze test - https://en.wikipedia.org/wiki/Cloze_test"
   ]
  },
  {
   "cell_type": "markdown",
   "metadata": {},
   "source": [
    "# 참고자료\n",
    "* [1] (Paper) Teaching Machines to Read and Comprehend - https://arxiv.org/abs/1506.03340\n",
    "* [2] (Slide) Teaching Machines to Read and Comprehend - http://lxmls.it.pt/2015/lxmls15.pdf\n",
    "* [3] (code) thomasmesnard/DeepMind-Teaching-Machines-to-Read-and-Comprehend -  https://github.com/thomasmesnard/DeepMind-Teaching-Machines-to-Read-and-Comprehend\n",
    "* [4] (code) carpedm20/attentive-reader-tensorflow - https://github.com/carpedm20/attentive-reader-tensorflow\n",
    "* [5] The Proposition Bank (PropBank) - http://propbank.github.io/\n",
    "* [6] FrameNet, PropBank, VerbNet - http://faculty.ist.unomaha.edu/ylierler/teaching/material/sp13/FrameNetPropBankVerbNet.pptx\n",
    "* [7] The Penn Treebank Project - http://www.cis.upenn.edu/~treebank/home.html\n",
    "* [8] Language Data Resources : Treebanks - https://ufal.mff.cuni.cz/~zabokrtsky/courses/npfl070/html/slides/pfl070-treebanks.ppt\n",
    "* [9] Cloze test - https://en.wikipedia.org/wiki/Cloze_test"
   ]
  }
 ],
 "metadata": {
  "kernelspec": {
   "display_name": "Python 2",
   "language": "python",
   "name": "python2"
  },
  "language_info": {
   "codemirror_mode": {
    "name": "ipython",
    "version": 2
   },
   "file_extension": ".py",
   "mimetype": "text/x-python",
   "name": "python",
   "nbconvert_exporter": "python",
   "pygments_lexer": "ipython2",
   "version": "2.7.6"
  }
 },
 "nbformat": 4,
 "nbformat_minor": 0
}
