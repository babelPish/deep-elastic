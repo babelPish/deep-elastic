{
 "cells": [
  {
   "cell_type": "markdown",
   "metadata": {},
   "source": [
    "# Show, Attend and Tell: Neural Image Caption Generation with Visual Attention"
   ]
  },
  {
   "cell_type": "code",
   "execution_count": null,
   "metadata": {
    "collapsed": true
   },
   "outputs": [],
   "source": []
  },
  {
   "cell_type": "markdown",
   "metadata": {},
   "source": [
    "# 참고자료\n",
    "* [1] Show, Attend and Tell: Neural Image Caption Generation with Visual Attention - https://arxiv.org/abs/1502.03044\n",
    "* [2] Recurrent Neural Network (RNN) 과 LSTM - http://www.whydsp.org/280\n",
    "* [3] (slideshare) Show, Attend and Tell: Neural Image Caption Generation with Visual Attention - http://www.slideshare.net/eunjileee/show-attend-and-tell-neural-image-caption-generation-with-visual-attention\n",
    "* [4] (slideshare) Attention mechanisms with tensorflow - http://www.slideshare.net/KeonKim/attention-mechanisms-with-tensorflow\n",
    "* [5] (code) kelvinxu/arctic-captions - http://kelvinxu.github.io/projects/capgen.html    \n",
    "* [6] (code) DeepRNN/image_captioning - https://github.com/DeepRNN/image_captioning\n",
    "\n",
    "#### Data\n",
    "* Flickr8k - http://nlp.cs.illinois.edu/HockenmaierGroup/8k-pictures.html\n",
    "* Flickr30k - http://web.engr.illinois.edu/~bplumme2/Flickr30kEntities/\n",
    "* MS COCO - http://mscoco.org/\n",
    "* MS COCO API - https://github.com/pdollar/coco"
   ]
  }
 ],
 "metadata": {
  "kernelspec": {
   "display_name": "Python 2",
   "language": "python",
   "name": "python2"
  },
  "language_info": {
   "codemirror_mode": {
    "name": "ipython",
    "version": 2
   },
   "file_extension": ".py",
   "mimetype": "text/x-python",
   "name": "python",
   "nbconvert_exporter": "python",
   "pygments_lexer": "ipython2",
   "version": "2.7.6"
  }
 },
 "nbformat": 4,
 "nbformat_minor": 0
}
