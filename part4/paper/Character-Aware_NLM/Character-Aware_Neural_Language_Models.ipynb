{
 "cells": [
  {
   "cell_type": "markdown",
   "metadata": {},
   "source": [
    "# Character-Aware Neural Language Models"
   ]
  },
  {
   "cell_type": "markdown",
   "metadata": {},
   "source": [
    "* 바벨피쉬 / 딥엘라스틱 : 파트 4 - 딥NLP [1]\n",
    "* 김무성"
   ]
  },
  {
   "cell_type": "markdown",
   "metadata": {},
   "source": [
    "<img src=\"https://github.com/carpedm20/lstm-char-cnn-tensorflow/blob/master/assets/model.png?raw=true\" width=600 />"
   ]
  },
  {
   "cell_type": "markdown",
   "metadata": {},
   "source": [
    "# 참고자료\n",
    "* (paper) Character-Aware Neural Language Models  - https://arxiv.org/abs/1508.06615\n",
    "* (slide) Character-Aware Neural Language Models  - http://nlp.seas.harvard.edu/slides/aaai16.pdf\n",
    "* (gitxiv)Character-Aware Neural Language Models -  http://www.gitxiv.com/posts/pKkTHzYyyHwQAajqB/character-aware-neural-language-models\n",
    "* harvardnlp - http://nlp.seas.harvard.edu/papers/\n",
    "* (code) yoonkim/lstm-char-cnn - https://github.com/yoonkim/lstm-char-cnn\n",
    "* (code) carpedm20/lstm-char-cnn-tensorflow - https://github.com/carpedm20/lstm-char-cnn-tensorflow"
   ]
  }
 ],
 "metadata": {
  "kernelspec": {
   "display_name": "Python 3",
   "language": "python",
   "name": "python3"
  },
  "language_info": {
   "codemirror_mode": {
    "name": "ipython",
    "version": 3
   },
   "file_extension": ".py",
   "mimetype": "text/x-python",
   "name": "python",
   "nbconvert_exporter": "python",
   "pygments_lexer": "ipython3",
   "version": "3.4.3"
  }
 },
 "nbformat": 4,
 "nbformat_minor": 0
}
