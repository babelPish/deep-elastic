{
 "cells": [
  {
   "cell_type": "markdown",
   "metadata": {},
   "source": [
    "# A Neural Conversational Model"
   ]
  },
  {
   "cell_type": "markdown",
   "metadata": {},
   "source": [
    "<img src=\"https://4.bp.blogspot.com/-aArS0l1pjHQ/Vjj71pKAaEI/AAAAAAAAAxE/Nvy1FSbD_Vs/s1600/2TFstaticgraphic_alt-01.png\" width=600 />"
   ]
  },
  {
   "cell_type": "markdown",
   "metadata": {},
   "source": [
    "# 실습"
   ]
  },
  {
   "cell_type": "markdown",
   "metadata": {},
   "source": [
    "#### 참고 \n",
    "* [5] (code) Conchylicultor/DeepQA - https://github.com/Conchylicultor/DeepQA"
   ]
  },
  {
   "cell_type": "markdown",
   "metadata": {},
   "source": [
    "# 참고자료 \n",
    "* [1] (paper) A Neural Conversational Model - https://arxiv.org/abs/1506.05869\n",
    "* [2] (slide) A Neural Conversation Model - http://home.iitk.ac.in/~amasare/cs671/project/slides.pdf\n",
    "* [3] (slide) Deep Learning for Language Understanding -  http://hlt.suda.edu.cn/workshop/s2mt/pdfs/quoc.pdf\n",
    "* [4] Computer, respond to this email - https://research.googleblog.com/2015/11/computer-respond-to-this-email.html\n",
    "* [5] (code) Conchylicultor/DeepQA - https://github.com/Conchylicultor/DeepQA\n",
    "* [6] A Persona-Based Neural Conversation Model - http://nlp.stanford.edu/pubs/jiwei2016Persona.pdf\n",
    "* [7] Attention and Augmented Recurrent Neural Networks - http://distill.pub/2016/augmented-rnns/"
   ]
  }
 ],
 "metadata": {
  "kernelspec": {
   "display_name": "Python 2",
   "language": "python",
   "name": "python2"
  },
  "language_info": {
   "codemirror_mode": {
    "name": "ipython",
    "version": 2
   },
   "file_extension": ".py",
   "mimetype": "text/x-python",
   "name": "python",
   "nbconvert_exporter": "python",
   "pygments_lexer": "ipython2",
   "version": "2.7.6"
  }
 },
 "nbformat": 4,
 "nbformat_minor": 1
}
