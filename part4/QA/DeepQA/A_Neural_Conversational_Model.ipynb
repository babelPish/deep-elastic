{
 "cells": [
  {
   "cell_type": "markdown",
   "metadata": {},
   "source": [
    "# A Neural Conversational Model"
   ]
  },
  {
   "cell_type": "markdown",
   "metadata": {},
   "source": [
    "* 바벨피쉬 / 딥엘라스틱 : 파트 4 - 딥러닝QA [1]\n",
    "* 김무성"
   ]
  },
  {
   "cell_type": "markdown",
   "metadata": {},
   "source": [
    "<img src=\"https://4.bp.blogspot.com/-aArS0l1pjHQ/Vjj71pKAaEI/AAAAAAAAAxE/Nvy1FSbD_Vs/s1600/2TFstaticgraphic_alt-01.png\" width=600 />"
   ]
  },
  {
   "cell_type": "markdown",
   "metadata": {},
   "source": [
    "# 실습"
   ]
  },
  {
   "cell_type": "markdown",
   "metadata": {},
   "source": [
    "#### 참고 \n",
    "* [5] (code) Conchylicultor/DeepQA - https://github.com/Conchylicultor/DeepQA"
   ]
  },
  {
   "cell_type": "markdown",
   "metadata": {},
   "source": [
    "코드 다운로드"
   ]
  },
  {
   "cell_type": "markdown",
   "metadata": {},
   "source": [
    "> git clone https://github.com/Conchylicultor/DeepQA"
   ]
  },
  {
   "cell_type": "markdown",
   "metadata": {},
   "source": [
    "소스 디렉토리로 이동한다"
   ]
  },
  {
   "cell_type": "markdown",
   "metadata": {},
   "source": [
    "> cd DeepQA"
   ]
  },
  {
   "cell_type": "markdown",
   "metadata": {},
   "source": [
    "docker 빌드"
   ]
  },
  {
   "cell_type": "markdown",
   "metadata": {},
   "source": [
    "> docker build -t deepqa:latest ."
   ]
  },
  {
   "cell_type": "markdown",
   "metadata": {},
   "source": [
    "docker 스크립트가 있는 디렉토리로 이동"
   ]
  },
  {
   "cell_type": "markdown",
   "metadata": {},
   "source": [
    "> cd DeepQA/docker"
   ]
  },
  {
   "cell_type": "markdown",
   "metadata": {},
   "source": [
    "서비스 실행될 디렉토리들을 생성하는 스크립트 실행"
   ]
  },
  {
   "cell_type": "markdown",
   "metadata": {},
   "source": [
    "> ./data-dirs.sh"
   ]
  },
  {
   "cell_type": "code",
   "execution_count": null,
   "metadata": {
    "collapsed": true
   },
   "outputs": [],
   "source": [
    "#!/bin/bash\n",
    "\n",
    "mkdir -p ~/deepQA\n",
    "cd ~/deepQA\n",
    "\n",
    "mkdir -p logs\n",
    "mkdir -p data/samples\n",
    "mkdir -p data/cornell  # Not necessary if samples are presents\n",
    "mkdir -p save/model-server\n",
    "ln -s save/model-server model-server"
   ]
  },
  {
   "cell_type": "markdown",
   "metadata": {},
   "source": [
    "docker-compose를 이용해서 각 서비스별로 도커 컨테이너 실행"
   ]
  },
  {
   "cell_type": "markdown",
   "metadata": {},
   "source": [
    "> docker-compose -f < YAML file \\> up"
   ]
  },
  {
   "cell_type": "markdown",
   "metadata": {},
   "source": [
    "학습용 컨테이너 실행"
   ]
  },
  {
   "cell_type": "markdown",
   "metadata": {},
   "source": [
    "> docker-compose -f train.yml up"
   ]
  },
  {
   "cell_type": "markdown",
   "metadata": {},
   "source": [
    "웹 UI용 컨테이너 실행"
   ]
  },
  {
   "cell_type": "markdown",
   "metadata": {},
   "source": [
    "> docker-compose -f deploy.yml up"
   ]
  },
  {
   "cell_type": "markdown",
   "metadata": {},
   "source": [
    "# 참고자료 \n",
    "* [1] (paper) A Neural Conversational Model - https://arxiv.org/abs/1506.05869\n",
    "* [2] (slide) A Neural Conversation Model - http://home.iitk.ac.in/~amasare/cs671/project/slides.pdf\n",
    "* [3] (slide) Deep Learning for Language Understanding -  http://hlt.suda.edu.cn/workshop/s2mt/pdfs/quoc.pdf\n",
    "* [4] Computer, respond to this email - https://research.googleblog.com/2015/11/computer-respond-to-this-email.html\n",
    "* [5] (code) Conchylicultor/DeepQA - https://github.com/Conchylicultor/DeepQA\n",
    "* [6] A Persona-Based Neural Conversation Model - http://nlp.stanford.edu/pubs/jiwei2016Persona.pdf\n",
    "* [7] Attention and Augmented Recurrent Neural Networks - http://distill.pub/2016/augmented-rnns/"
   ]
  }
 ],
 "metadata": {
  "kernelspec": {
   "display_name": "Python 2",
   "language": "python",
   "name": "python2"
  },
  "language_info": {
   "codemirror_mode": {
    "name": "ipython",
    "version": 2
   },
   "file_extension": ".py",
   "mimetype": "text/x-python",
   "name": "python",
   "nbconvert_exporter": "python",
   "pygments_lexer": "ipython2",
   "version": "2.7.6"
  }
 },
 "nbformat": 4,
 "nbformat_minor": 1
}
